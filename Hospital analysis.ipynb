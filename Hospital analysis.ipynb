{
 "cells": [
  {
   "cell_type": "code",
   "execution_count": 13,
   "id": "d9c25530",
   "metadata": {},
   "outputs": [],
   "source": [
    "import pandas as pd\n",
    "import matplotlib.pyplot as plt\n",
    "import seaborn as sns\n",
    "import plotly.express as px\n",
    "import ipywidgets as widgets\n",
    "from ipywidgets import interactive, Layout\n",
    "\n",
    "import warnings\n",
    "warnings.filterwarnings('ignore')\n"
   ]
  },
  {
   "cell_type": "code",
   "execution_count": 14,
   "id": "31042659",
   "metadata": {},
   "outputs": [],
   "source": [
    "#importing the concatenated file \n",
    "\n",
    "df = pd.read_csv('master_discharge _list')"
   ]
  },
  {
   "cell_type": "code",
   "execution_count": 15,
   "id": "9580026f",
   "metadata": {},
   "outputs": [
    {
     "data": {
      "text/plain": [
       "Index(['Hospital Service Area', 'Hospital County', 'Facility Name',\n",
       "       'Age Group', 'Zip Code - 3 digits', 'Gender', 'Length of Stay',\n",
       "       'Type of Admission', 'Discharge Year', 'CCSR Diagnosis Description',\n",
       "       'APR DRG Description', 'APR MDC Description',\n",
       "       'APR Severity of Illness Code', 'APR Severity of Illness Description',\n",
       "       'APR Risk of Mortality'],\n",
       "      dtype='object')"
      ]
     },
     "execution_count": 15,
     "metadata": {},
     "output_type": "execute_result"
    }
   ],
   "source": [
    "#listing columns\n",
    "\n",
    "df.columns"
   ]
  },
  {
   "cell_type": "code",
   "execution_count": 16,
   "id": "e92cd5f4",
   "metadata": {},
   "outputs": [],
   "source": [
    "#noted during the preprocessing of the yearly data, there was a diffewrence in how variables were inputted, \n",
    "#some in capitals and others in lower case, we will convert relevant columns to lower case\n",
    "#Changing name of column from 'Discharge Year' to 'Year'\n",
    "\n",
    "df['CCSR Diagnosis Description'] = df['CCSR Diagnosis Description'].str.lower()\n",
    "df['APR DRG Description'] = df['APR DRG Description'].str.lower()\n",
    "df['APR MDC Description'] = df['APR MDC Description'].str.lower()\n",
    "df.rename(columns = {'Discharge Year' : 'year'}, inplace = True)"
   ]
  },
  {
   "cell_type": "code",
   "execution_count": 17,
   "id": "56ffdd9d",
   "metadata": {},
   "outputs": [
    {
     "data": {
      "text/plain": [
       "Index(['Hospital Service Area', 'Hospital County', 'Facility Name',\n",
       "       'Age Group', 'Zip Code - 3 digits', 'Gender', 'Length of Stay',\n",
       "       'Type of Admission', 'year', 'CCSR Diagnosis Description',\n",
       "       'APR DRG Description', 'APR MDC Description',\n",
       "       'APR Severity of Illness Code', 'APR Severity of Illness Description',\n",
       "       'APR Risk of Mortality'],\n",
       "      dtype='object')"
      ]
     },
     "execution_count": 17,
     "metadata": {},
     "output_type": "execute_result"
    }
   ],
   "source": [
    "#listing coluimns to verify change\n",
    "\n",
    "df.columns"
   ]
  },
  {
   "cell_type": "code",
   "execution_count": 18,
   "id": "c522b007",
   "metadata": {},
   "outputs": [
    {
     "data": {
      "text/plain": [
       "(320960, 15)"
      ]
     },
     "execution_count": 18,
     "metadata": {},
     "output_type": "execute_result"
    }
   ],
   "source": [
    "df.shape"
   ]
  },
  {
   "cell_type": "code",
   "execution_count": 19,
   "id": "311df3ef",
   "metadata": {},
   "outputs": [
    {
     "name": "stdout",
     "output_type": "stream",
     "text": [
      "<class 'pandas.core.frame.DataFrame'>\n",
      "RangeIndex: 320960 entries, 0 to 320959\n",
      "Data columns (total 15 columns):\n",
      " #   Column                               Non-Null Count   Dtype  \n",
      "---  ------                               --------------   -----  \n",
      " 0   Hospital Service Area                320960 non-null  object \n",
      " 1   Hospital County                      320960 non-null  object \n",
      " 2   Facility Name                        320960 non-null  object \n",
      " 3   Age Group                            320960 non-null  object \n",
      " 4   Zip Code - 3 digits                  320960 non-null  object \n",
      " 5   Gender                               320960 non-null  object \n",
      " 6   Length of Stay                       320960 non-null  object \n",
      " 7   Type of Admission                    320960 non-null  object \n",
      " 8   year                                 320960 non-null  int64  \n",
      " 9   CCSR Diagnosis Description           320960 non-null  object \n",
      " 10  APR DRG Description                  320960 non-null  object \n",
      " 11  APR MDC Description                  320960 non-null  object \n",
      " 12  APR Severity of Illness Code         320960 non-null  float64\n",
      " 13  APR Severity of Illness Description  320960 non-null  object \n",
      " 14  APR Risk of Mortality                320960 non-null  object \n",
      "dtypes: float64(1), int64(1), object(13)\n",
      "memory usage: 36.7+ MB\n"
     ]
    }
   ],
   "source": [
    "df.info()"
   ]
  },
  {
   "cell_type": "code",
   "execution_count": 20,
   "id": "d25e4ad5",
   "metadata": {},
   "outputs": [],
   "source": [
    "#creating an interactive interactive bar plot with slider for year and a drop down menu for hospital county\n",
    "#This will allow user to see Top 5 diagnoses per year by county\n",
    "\n",
    "\n",
    "def update(year_filter, county_filter):\n",
    "    filtered_df = df[(df['year'] == year_filter) & (df['Hospital County'] == county_filter)]\n",
    "    \n",
    "#building the barplot in seaborn, using a colorblind palette\n",
    "    \n",
    "    plt.figure(figsize=(8, 5))\n",
    "    sns.barplot(x = filtered_df['CCSR Diagnosis Description'].value_counts()[:5].index,\n",
    "                y = filtered_df['CCSR Diagnosis Description'].value_counts()[:5].values, palette = 'colorblind')\n",
    "    \n",
    "    plt.xticks(rotation = 90)\n",
    "    plt.title(f'Top % diagnoses in {year_filter} - {county_filter}')\n",
    "    plt.show()\n",
    "            "
   ]
  },
  {
   "cell_type": "code",
   "execution_count": 21,
   "id": "e9f0c311",
   "metadata": {},
   "outputs": [],
   "source": [
    "#we will create an interactive slider for the year using a widget from ipywidgets\n",
    "#we use the IntSlider widget, defining the min and max bounds, the increment step is 1, for year.\n",
    "#Layout then the size of the slider bar\n",
    "\n",
    "year_selector = widgets.IntSlider(\n",
    "min = df['year'].min(),\n",
    "max = df['year'].max(),\n",
    "step = 1,\n",
    "description = 'Select Year:',\n",
    "layout = Layout(width = '400px'))\n"
   ]
  },
  {
   "cell_type": "code",
   "execution_count": 22,
   "id": "fdfb1a6d",
   "metadata": {},
   "outputs": [],
   "source": [
    "#we will use the dropdown widget from ipywidget to select the Hospital County\n",
    "\n",
    "county_selector = widgets.Dropdown(options = df['Hospital County'].unique(),\n",
    "                                   description = 'Select County:',\n",
    "                                   layout = Layout(width = '200px'))\n"
   ]
  },
  {
   "cell_type": "code",
   "execution_count": 23,
   "id": "bb592398",
   "metadata": {
    "scrolled": false
   },
   "outputs": [
    {
     "data": {
      "application/vnd.jupyter.widget-view+json": {
       "model_id": "f52d24d9362d43ac87d1c23d1d129fbf",
       "version_major": 2,
       "version_minor": 0
      },
      "text/plain": [
       "interactive(children=(IntSlider(value=2016, description='Select Year:', layout=Layout(width='400px'), max=2021…"
      ]
     },
     "execution_count": 23,
     "metadata": {},
     "output_type": "execute_result"
    }
   ],
   "source": [
    "#making this plot interactive we call in the interactive function from ipywidgets\n",
    "\n",
    "interactive_plot = interactive(update, year_filter = year_selector, county_filter = county_selector)\n",
    "output = interactive_plot.children[-1]\n",
    "output.layout.height = '1100px'\n",
    "interactive_plot\n"
   ]
  },
  {
   "cell_type": "code",
   "execution_count": 24,
   "id": "d02c8cb2",
   "metadata": {
    "scrolled": false
   },
   "outputs": [
    {
     "data": {
      "image/png": "[encoded data removed]",
      "text/plain": [
       "<Figure size 800x600 with 1 Axes>"
      ]
     },
     "metadata": {},
     "output_type": "display_data"
    },
    {
     "data": {
      "image/png": "[encoded data removed]",
      "text/plain": [
       "<Figure size 640x480 with 1 Axes>"
      ]
     },
     "metadata": {},
     "output_type": "display_data"
    }
   ],
   "source": [
    "#We will create a panel of categorical analysis, \n",
    "#we will look at the hospital county and year \n",
    "#defining the categorical columns as cat_cols\n",
    "\n",
    "cat_cols = ['Hospital County', 'year']\n",
    "\n",
    "#creating a 2 panel single column frequency charts,in descending order on the graphs\n",
    "\n",
    "rows = 2\n",
    "columns = 1\n",
    "index = 1\n",
    "\n",
    "plt.figure(figsize = (8,6))\n",
    "sns.set(style = 'white')\n",
    "\n",
    "for i in cat_cols:\n",
    "    plt.subplot(rows, columns, index)\n",
    "    sns.countplot(x = df[i], order = df[i].value_counts().index, palette = 'colorblind')\n",
    "    \n",
    "    plt.ylabel('Frequency')\n",
    "    plt.xticks(rotation = 90)\n",
    "    index +=1\n",
    "    \n",
    "    plt.tight_layout()\n",
    "    plt.show()\n",
    "\n",
    "\n"
   ]
  },
  {
   "cell_type": "code",
   "execution_count": 25,
   "id": "1802fc61",
   "metadata": {},
   "outputs": [],
   "source": [
    "df1 = pd.read_csv('queens_data.csv')"
   ]
  },
  {
   "cell_type": "code",
   "execution_count": 26,
   "id": "39f114e8",
   "metadata": {},
   "outputs": [
    {
     "data": {
      "text/plain": [
       "(20855, 23)"
      ]
     },
     "execution_count": 26,
     "metadata": {},
     "output_type": "execute_result"
    }
   ],
   "source": [
    "df1.shape\n"
   ]
  },
  {
   "cell_type": "code",
   "execution_count": 27,
   "id": "83f5b6af",
   "metadata": {},
   "outputs": [
    {
     "data": {
      "text/plain": [
       "Index(['date', 'source', 'site_id', 'poc', 'daily_mean_pm2.5_concentration',\n",
       "       'units', 'daily_aqi_value', 'site_name', 'daily_obs_count',\n",
       "       'percent_complete', 'aqs_parameter_code', 'aqs_parameter_desc',\n",
       "       'cbsa_code', 'cbsa_name', 'state_code', 'state', 'county_code',\n",
       "       'county', 'site_latitude', 'site_longitude', 'year', 'month', 'day'],\n",
       "      dtype='object')"
      ]
     },
     "execution_count": 27,
     "metadata": {},
     "output_type": "execute_result"
    }
   ],
   "source": [
    "df1.columns\n"
   ]
  },
  {
   "cell_type": "code",
   "execution_count": 28,
   "id": "2691785f",
   "metadata": {
    "scrolled": true
   },
   "outputs": [
    {
     "data": {
      "text/html": [
       "<div>\n",
       "<style scoped>\n",
       "    .dataframe tbody tr th:only-of-type {\n",
       "        vertical-align: middle;\n",
       "    }\n",
       "\n",
       "    .dataframe tbody tr th {\n",
       "        vertical-align: top;\n",
       "    }\n",
       "\n",
       "    .dataframe thead th {\n",
       "        text-align: right;\n",
       "    }\n",
       "</style>\n",
       "<table border=\"1\" class=\"dataframe\">\n",
       "  <thead>\n",
       "    <tr style=\"text-align: right;\">\n",
       "      <th></th>\n",
       "      <th>date</th>\n",
       "      <th>source</th>\n",
       "      <th>site_id</th>\n",
       "      <th>poc</th>\n",
       "      <th>daily_mean_pm2.5_concentration</th>\n",
       "      <th>units</th>\n",
       "      <th>daily_aqi_value</th>\n",
       "      <th>site_name</th>\n",
       "      <th>daily_obs_count</th>\n",
       "      <th>percent_complete</th>\n",
       "      <th>...</th>\n",
       "      <th>cbsa_name</th>\n",
       "      <th>state_code</th>\n",
       "      <th>state</th>\n",
       "      <th>county_code</th>\n",
       "      <th>county</th>\n",
       "      <th>site_latitude</th>\n",
       "      <th>site_longitude</th>\n",
       "      <th>year</th>\n",
       "      <th>month</th>\n",
       "      <th>day</th>\n",
       "    </tr>\n",
       "  </thead>\n",
       "  <tbody>\n",
       "    <tr>\n",
       "      <th>0</th>\n",
       "      <td>1999-07-02</td>\n",
       "      <td>AQS</td>\n",
       "      <td>360810097</td>\n",
       "      <td>1</td>\n",
       "      <td>22.0</td>\n",
       "      <td>ug/m3 LC</td>\n",
       "      <td>72</td>\n",
       "      <td>QUEENSBORO COMMUNITY COLLEGE</td>\n",
       "      <td>1</td>\n",
       "      <td>100.0</td>\n",
       "      <td>...</td>\n",
       "      <td>New York-Newark-Jersey City, NY-NJ-PA</td>\n",
       "      <td>36</td>\n",
       "      <td>New York</td>\n",
       "      <td>81</td>\n",
       "      <td>Queens</td>\n",
       "      <td>40.75527</td>\n",
       "      <td>-73.75861</td>\n",
       "      <td>1999</td>\n",
       "      <td>7</td>\n",
       "      <td>2</td>\n",
       "    </tr>\n",
       "    <tr>\n",
       "      <th>1</th>\n",
       "      <td>1999-07-05</td>\n",
       "      <td>AQS</td>\n",
       "      <td>360810097</td>\n",
       "      <td>1</td>\n",
       "      <td>27.8</td>\n",
       "      <td>ug/m3 LC</td>\n",
       "      <td>84</td>\n",
       "      <td>QUEENSBORO COMMUNITY COLLEGE</td>\n",
       "      <td>1</td>\n",
       "      <td>100.0</td>\n",
       "      <td>...</td>\n",
       "      <td>New York-Newark-Jersey City, NY-NJ-PA</td>\n",
       "      <td>36</td>\n",
       "      <td>New York</td>\n",
       "      <td>81</td>\n",
       "      <td>Queens</td>\n",
       "      <td>40.75527</td>\n",
       "      <td>-73.75861</td>\n",
       "      <td>1999</td>\n",
       "      <td>7</td>\n",
       "      <td>5</td>\n",
       "    </tr>\n",
       "  </tbody>\n",
       "</table>\n",
       "<p>2 rows × 23 columns</p>\n",
       "</div>"
      ],
      "text/plain": [
       "         date source    site_id  poc  daily_mean_pm2.5_concentration  \\\n",
       "0  1999-07-02    AQS  360810097    1                            22.0   \n",
       "1  1999-07-05    AQS  360810097    1                            27.8   \n",
       "\n",
       "      units  daily_aqi_value                     site_name  daily_obs_count  \\\n",
       "0  ug/m3 LC               72  QUEENSBORO COMMUNITY COLLEGE                1   \n",
       "1  ug/m3 LC               84  QUEENSBORO COMMUNITY COLLEGE                1   \n",
       "\n",
       "   percent_complete  ...                              cbsa_name state_code  \\\n",
       "0             100.0  ...  New York-Newark-Jersey City, NY-NJ-PA         36   \n",
       "1             100.0  ...  New York-Newark-Jersey City, NY-NJ-PA         36   \n",
       "\n",
       "      state county_code  county site_latitude  site_longitude  year  month  \\\n",
       "0  New York          81  Queens      40.75527       -73.75861  1999      7   \n",
       "1  New York          81  Queens      40.75527       -73.75861  1999      7   \n",
       "\n",
       "   day  \n",
       "0    2  \n",
       "1    5  \n",
       "\n",
       "[2 rows x 23 columns]"
      ]
     },
     "execution_count": 28,
     "metadata": {},
     "output_type": "execute_result"
    }
   ],
   "source": [
    "df1.head(2)"
   ]
  },
  {
   "cell_type": "code",
   "execution_count": 29,
   "id": "b6608cb0",
   "metadata": {},
   "outputs": [],
   "source": [
    "#trimmimg back queens data set to 2016 to 2021\n",
    "\n",
    "df2 = df1[(df1['year'] >= 2016) & (df1['year'] <= 2021)]"
   ]
  },
  {
   "cell_type": "code",
   "execution_count": 30,
   "id": "ee54563b",
   "metadata": {
    "scrolled": true
   },
   "outputs": [
    {
     "data": {
      "text/plain": [
       "(7424, 23)"
      ]
     },
     "execution_count": 30,
     "metadata": {},
     "output_type": "execute_result"
    }
   ],
   "source": [
    "df2.shape"
   ]
  },
  {
   "cell_type": "code",
   "execution_count": 31,
   "id": "b18f0738",
   "metadata": {},
   "outputs": [
    {
     "data": {
      "text/plain": [
       "Index(['date', 'source', 'site_id', 'poc', 'daily_mean_pm2.5_concentration',\n",
       "       'units', 'daily_aqi_value', 'site_name', 'daily_obs_count',\n",
       "       'percent_complete', 'aqs_parameter_code', 'aqs_parameter_desc',\n",
       "       'cbsa_code', 'cbsa_name', 'state_code', 'state', 'county_code',\n",
       "       'county', 'site_latitude', 'site_longitude', 'year', 'month', 'day'],\n",
       "      dtype='object')"
      ]
     },
     "execution_count": 31,
     "metadata": {},
     "output_type": "execute_result"
    }
   ],
   "source": [
    "df2.columns"
   ]
  },
  {
   "cell_type": "code",
   "execution_count": 32,
   "id": "774760d6",
   "metadata": {},
   "outputs": [],
   "source": [
    "#Taking hospital county'Queens' and 'asthma' data from master list\n",
    "\n",
    "df3 = df[(df['CCSR Diagnosis Description'] == 'asthma') & (df['Hospital County'] == 'Queens')]"
   ]
  },
  {
   "cell_type": "code",
   "execution_count": 33,
   "id": "f9e89fd3",
   "metadata": {},
   "outputs": [
    {
     "data": {
      "text/plain": [
       "(7682, 15)"
      ]
     },
     "execution_count": 33,
     "metadata": {},
     "output_type": "execute_result"
    }
   ],
   "source": [
    "df3.shape"
   ]
  },
  {
   "cell_type": "code",
   "execution_count": 34,
   "id": "d0c061a7",
   "metadata": {},
   "outputs": [],
   "source": [
    "df3['year'] = df3['year'].astype('object')"
   ]
  },
  {
   "cell_type": "code",
   "execution_count": 35,
   "id": "eb5c114e",
   "metadata": {
    "scrolled": true
   },
   "outputs": [
    {
     "data": {
      "text/html": [
       "<div>\n",
       "<style scoped>\n",
       "    .dataframe tbody tr th:only-of-type {\n",
       "        vertical-align: middle;\n",
       "    }\n",
       "\n",
       "    .dataframe tbody tr th {\n",
       "        vertical-align: top;\n",
       "    }\n",
       "\n",
       "    .dataframe thead th {\n",
       "        text-align: right;\n",
       "    }\n",
       "</style>\n",
       "<table border=\"1\" class=\"dataframe\">\n",
       "  <thead>\n",
       "    <tr style=\"text-align: right;\">\n",
       "      <th></th>\n",
       "      <th>Hospital Service Area</th>\n",
       "      <th>Hospital County</th>\n",
       "      <th>Facility Name</th>\n",
       "      <th>Age Group</th>\n",
       "      <th>Zip Code - 3 digits</th>\n",
       "      <th>Gender</th>\n",
       "      <th>Length of Stay</th>\n",
       "      <th>Type of Admission</th>\n",
       "      <th>year</th>\n",
       "      <th>CCSR Diagnosis Description</th>\n",
       "      <th>APR DRG Description</th>\n",
       "      <th>APR MDC Description</th>\n",
       "      <th>APR Severity of Illness Code</th>\n",
       "      <th>APR Severity of Illness Description</th>\n",
       "      <th>APR Risk of Mortality</th>\n",
       "    </tr>\n",
       "  </thead>\n",
       "  <tbody>\n",
       "    <tr>\n",
       "      <th>52186</th>\n",
       "      <td>New York City</td>\n",
       "      <td>Queens</td>\n",
       "      <td>Elmhurst Hospital Center</td>\n",
       "      <td>18 to 29</td>\n",
       "      <td>113</td>\n",
       "      <td>M</td>\n",
       "      <td>2</td>\n",
       "      <td>Emergency</td>\n",
       "      <td>2016</td>\n",
       "      <td>asthma</td>\n",
       "      <td>asthma</td>\n",
       "      <td>diseases and disorders of the respiratory system</td>\n",
       "      <td>1.0</td>\n",
       "      <td>Minor</td>\n",
       "      <td>Minor</td>\n",
       "    </tr>\n",
       "    <tr>\n",
       "      <th>52189</th>\n",
       "      <td>New York City</td>\n",
       "      <td>Queens</td>\n",
       "      <td>Elmhurst Hospital Center</td>\n",
       "      <td>30 to 49</td>\n",
       "      <td>113</td>\n",
       "      <td>M</td>\n",
       "      <td>3</td>\n",
       "      <td>Emergency</td>\n",
       "      <td>2016</td>\n",
       "      <td>asthma</td>\n",
       "      <td>asthma</td>\n",
       "      <td>diseases and disorders of the respiratory system</td>\n",
       "      <td>1.0</td>\n",
       "      <td>Minor</td>\n",
       "      <td>Minor</td>\n",
       "    </tr>\n",
       "  </tbody>\n",
       "</table>\n",
       "</div>"
      ],
      "text/plain": [
       "      Hospital Service Area Hospital County             Facility Name  \\\n",
       "52186         New York City          Queens  Elmhurst Hospital Center   \n",
       "52189         New York City          Queens  Elmhurst Hospital Center   \n",
       "\n",
       "      Age Group Zip Code - 3 digits Gender Length of Stay Type of Admission  \\\n",
       "52186  18 to 29                 113      M              2         Emergency   \n",
       "52189  30 to 49                 113      M              3         Emergency   \n",
       "\n",
       "       year CCSR Diagnosis Description APR DRG Description  \\\n",
       "52186  2016                     asthma              asthma   \n",
       "52189  2016                     asthma              asthma   \n",
       "\n",
       "                                    APR MDC Description  \\\n",
       "52186  diseases and disorders of the respiratory system   \n",
       "52189  diseases and disorders of the respiratory system   \n",
       "\n",
       "       APR Severity of Illness Code APR Severity of Illness Description  \\\n",
       "52186                           1.0                               Minor   \n",
       "52189                           1.0                               Minor   \n",
       "\n",
       "      APR Risk of Mortality  \n",
       "52186                 Minor  \n",
       "52189                 Minor  "
      ]
     },
     "execution_count": 35,
     "metadata": {},
     "output_type": "execute_result"
    }
   ],
   "source": [
    "df3.head(2)"
   ]
  },
  {
   "cell_type": "code",
   "execution_count": 36,
   "id": "f3254b4d",
   "metadata": {
    "scrolled": false
   },
   "outputs": [
    {
     "data": {
      "image/png": "[encoded data removed]",
      "text/plain": [
       "<Figure size 800x600 with 1 Axes>"
      ]
     },
     "metadata": {},
     "output_type": "display_data"
    }
   ],
   "source": [
    "plt.figure(figsize=(8,6))\n",
    "plt.xticks(rotation=90)\n",
    "sns.barplot(x=\"year\", y=\"daily_aqi_value\", data=df2, palette = 'colorblind')\n",
    "legend = False"
   ]
  },
  {
   "cell_type": "code",
   "execution_count": 37,
   "id": "e57fc457",
   "metadata": {
    "scrolled": false
   },
   "outputs": [
    {
     "data": {
      "image/png": "[encoded data removed]",
      "text/plain": [
       "<Figure size 1000x600 with 1 Axes>"
      ]
     },
     "metadata": {},
     "output_type": "display_data"
    }
   ],
   "source": [
    "# grouping the cssr diagnosis and year into it's own frame for charting\n",
    "grouped_df = df3.groupby(['year', 'CCSR Diagnosis Description']).size().reset_index(name='Count')\n",
    "\n",
    "plt.figure(figsize=(10, 6))\n",
    "sns.barplot(x='year', y='Count', hue='CCSR Diagnosis Description', data=grouped_df,palette = 'colorblind' )\n",
    "plt.title('CCSR Diagnosis = Asthma Total by Year in Queens County')\n",
    "plt.xlabel('Year')\n",
    "plt.ylabel('Count')\n",
    "plt.show()\n"
   ]
  },
  {
   "cell_type": "code",
   "execution_count": 38,
   "id": "56ed1644",
   "metadata": {},
   "outputs": [
    {
     "data": {
      "text/plain": [
       "array(['Elmhurst Hospital Center', 'Flushing Hospital Medical Center',\n",
       "       'Jamaica Hospital Medical Center',\n",
       "       'Long Island Jewish Medical Center', 'Queens Hospital Center',\n",
       "       'St Johns Episcopal Hospital So Shore',\n",
       "       'NewYork-Presbyterian/Queens', 'Long Island Jewish Forest Hills',\n",
       "       'Mount Sinai Hospital - Mount Sinai Hospital of Queens',\n",
       "       \"Long Island Jewish Schneiders Children's Hospital Division\",\n",
       "       'New York - Presbyterian/Queens',\n",
       "       \"Cohen Children's Medical Center\"], dtype=object)"
      ]
     },
     "execution_count": 38,
     "metadata": {},
     "output_type": "execute_result"
    }
   ],
   "source": [
    "#All hospitals in Queens County\n",
    "\n",
    "df3['Facility Name'].unique()"
   ]
  },
  {
   "cell_type": "code",
   "execution_count": 39,
   "id": "bf0be335",
   "metadata": {},
   "outputs": [
    {
     "data": {
      "text/html": [
       "<div>\n",
       "<style scoped>\n",
       "    .dataframe tbody tr th:only-of-type {\n",
       "        vertical-align: middle;\n",
       "    }\n",
       "\n",
       "    .dataframe tbody tr th {\n",
       "        vertical-align: top;\n",
       "    }\n",
       "\n",
       "    .dataframe thead th {\n",
       "        text-align: right;\n",
       "    }\n",
       "</style>\n",
       "<table border=\"1\" class=\"dataframe\">\n",
       "  <thead>\n",
       "    <tr style=\"text-align: right;\">\n",
       "      <th></th>\n",
       "      <th>Facility Name</th>\n",
       "      <th>Latitude</th>\n",
       "      <th>Longitude</th>\n",
       "    </tr>\n",
       "  </thead>\n",
       "  <tbody>\n",
       "    <tr>\n",
       "      <th>0</th>\n",
       "      <td>Elmhurst Hospital Center</td>\n",
       "      <td>40.744770</td>\n",
       "      <td>-73.885647</td>\n",
       "    </tr>\n",
       "    <tr>\n",
       "      <th>1</th>\n",
       "      <td>Flushing Hospital Medical Center</td>\n",
       "      <td>40.755445</td>\n",
       "      <td>-73.816759</td>\n",
       "    </tr>\n",
       "    <tr>\n",
       "      <th>2</th>\n",
       "      <td>Jamaica Hospital Medical Center</td>\n",
       "      <td>40.693751</td>\n",
       "      <td>-73.781315</td>\n",
       "    </tr>\n",
       "    <tr>\n",
       "      <th>3</th>\n",
       "      <td>Long Island Jewish Medical Center</td>\n",
       "      <td>40.755498</td>\n",
       "      <td>-73.706579</td>\n",
       "    </tr>\n",
       "    <tr>\n",
       "      <th>4</th>\n",
       "      <td>Queens Hospital Center</td>\n",
       "      <td>40.717866</td>\n",
       "      <td>-73.806066</td>\n",
       "    </tr>\n",
       "    <tr>\n",
       "      <th>5</th>\n",
       "      <td>St John's Episcopal Hospital</td>\n",
       "      <td>40.598688</td>\n",
       "      <td>-73.753461</td>\n",
       "    </tr>\n",
       "    <tr>\n",
       "      <th>6</th>\n",
       "      <td>NewYork-Presbyterian/Queens</td>\n",
       "      <td>40.747263</td>\n",
       "      <td>-73.825194</td>\n",
       "    </tr>\n",
       "    <tr>\n",
       "      <th>7</th>\n",
       "      <td>Long Island Jewish Forest Hills</td>\n",
       "      <td>40.729034</td>\n",
       "      <td>-73.851552</td>\n",
       "    </tr>\n",
       "    <tr>\n",
       "      <th>8</th>\n",
       "      <td>Mount Sinai Hospital - Mount Sinai Hospital of...</td>\n",
       "      <td>40.768107</td>\n",
       "      <td>-73.924939</td>\n",
       "    </tr>\n",
       "    <tr>\n",
       "      <th>9</th>\n",
       "      <td>New York - Presbyterian/Queens</td>\n",
       "      <td>40.754938</td>\n",
       "      <td>-73.893101</td>\n",
       "    </tr>\n",
       "    <tr>\n",
       "      <th>10</th>\n",
       "      <td>Cohen Children's Medical Center</td>\n",
       "      <td>40.753889</td>\n",
       "      <td>-73.708333</td>\n",
       "    </tr>\n",
       "  </tbody>\n",
       "</table>\n",
       "</div>"
      ],
      "text/plain": [
       "                                        Facility Name   Latitude  Longitude\n",
       "0                            Elmhurst Hospital Center  40.744770 -73.885647\n",
       "1                    Flushing Hospital Medical Center  40.755445 -73.816759\n",
       "2                     Jamaica Hospital Medical Center  40.693751 -73.781315\n",
       "3                   Long Island Jewish Medical Center  40.755498 -73.706579\n",
       "4                              Queens Hospital Center  40.717866 -73.806066\n",
       "5                        St John's Episcopal Hospital  40.598688 -73.753461\n",
       "6                         NewYork-Presbyterian/Queens  40.747263 -73.825194\n",
       "7                     Long Island Jewish Forest Hills  40.729034 -73.851552\n",
       "8   Mount Sinai Hospital - Mount Sinai Hospital of...  40.768107 -73.924939\n",
       "9                      New York - Presbyterian/Queens  40.754938 -73.893101\n",
       "10                    Cohen Children's Medical Center  40.753889 -73.708333"
      ]
     },
     "execution_count": 39,
     "metadata": {},
     "output_type": "execute_result"
    }
   ],
   "source": [
    "# Using the hospital list from the master discharge list for the Hospital County Queens \n",
    "#we will pull the latitude and longitude coordinates from GeoPy, \n",
    "#this has a datahub of locations without having to use an APIby usingthe Nomantim geocoder for OpenStreetMap data\n",
    "\n",
    "#pip install geopy\n",
    "\n",
    "from geopy.geocoders import Nominatim\n",
    "\n",
    "\n",
    "locations = [\n",
    "    'Elmhurst Hospital Center', 'Flushing Hospital Medical Center',\n",
    "    'Jamaica Hospital Medical Center', 'Long Island Jewish Medical Center',\n",
    "    'Queens Hospital Center', \"St John's Episcopal Hospital\",\n",
    "    'NewYork-Presbyterian/Queens', 'Long Island Jewish Forest Hills',\n",
    "    'Mount Sinai Hospital - Mount Sinai Hospital of Queens',\n",
    "    \"Long Island Jewish Schneiders Children's Hospital Division\",\n",
    "    'New York - Presbyterian/Queens', \"Cohen Children's Medical Center\"\n",
    "]\n",
    "#'Long Island Jewish Schneiders Children's Hospital Division' is part of the 'Long Island Jewish Medical Center'\n",
    "#St Johns Episcopal Hospital So Shore' is listed on the map as 'St John's Episcopal Hospital'\n",
    "\n",
    "coordinates = {'Facility Name': [], 'Latitude': [], 'Longitude': []}\n",
    "\n",
    "geolocator = Nominatim(user_agent=\"my_geocoder\")\n",
    "\n",
    "for location in locations:\n",
    "    try:\n",
    "        location_info = geolocator.geocode(location)\n",
    "        if location_info:\n",
    "            coordinates['Facility Name'].append(location)\n",
    "            coordinates['Latitude'].append(location_info.latitude)\n",
    "            coordinates['Longitude'].append(location_info.longitude)\n",
    "    except Exception as e:\n",
    "        print(f\"Error processing {location}: {str(e)}\")\n",
    "        \n",
    "        \n",
    " #Create a DataFrame\n",
    "df4 = pd.DataFrame(coordinates)\n",
    "\n",
    "df4"
   ]
  },
  {
   "cell_type": "code",
   "execution_count": 40,
   "id": "939acf98",
   "metadata": {},
   "outputs": [
    {
     "data": {
      "text/html": [
       "<div style=\"width:100%;\"><div style=\"position:relative;width:100%;height:0;padding-bottom:60%;\"><span style=\"color:#565656\">Make this Notebook Trusted to load map: File -> Trust Notebook</span><iframe srcdoc=\"&lt;!DOCTYPE html&gt;\n",
       "&lt;html&gt;\n",
       "&lt;head&gt;\n",
       "    \n",
       "    &lt;meta http-equiv=&quot;content-type&quot; content=&quot;text/html; charset=UTF-8&quot; /&gt;\n",
       "    \n",
       "        &lt;script&gt;\n",
       "            L_NO_TOUCH = false;\n",
       "            L_DISABLE_3D = false;\n",
       "        &lt;/script&gt;\n",
       "    \n",
       "    &lt;style&gt;html, body {width: 100%;height: 100%;margin: 0;padding: 0;}&lt;/style&gt;\n",
       "    &lt;style&gt;#map {position:absolute;top:0;bottom:0;right:0;left:0;}&lt;/style&gt;\n",
       "    &lt;script src=&quot;https://cdn.jsdelivr.net/npm/leaflet@1.9.3/dist/leaflet.js&quot;&gt;&lt;/script&gt;\n",
       "    &lt;script src=&quot;https://code.jquery.com/jquery-1.12.4.min.js&quot;&gt;&lt;/script&gt;\n",
       "    &lt;script src=&quot;https://cdn.jsdelivr.net/npm/bootstrap@5.2.2/dist/js/bootstrap.bundle.min.js&quot;&gt;&lt;/script&gt;\n",
       "    &lt;script src=&quot;https://cdnjs.cloudflare.com/ajax/libs/Leaflet.awesome-markers/2.0.2/leaflet.awesome-markers.js&quot;&gt;&lt;/script&gt;\n",
       "    &lt;link rel=&quot;stylesheet&quot; href=&quot;https://cdn.jsdelivr.net/npm/leaflet@1.9.3/dist/leaflet.css&quot;/&gt;\n",
       "    &lt;link rel=&quot;stylesheet&quot; href=&quot;https://cdn.jsdelivr.net/npm/bootstrap@5.2.2/dist/css/bootstrap.min.css&quot;/&gt;\n",
       "    &lt;link rel=&quot;stylesheet&quot; href=&quot;https://netdna.bootstrapcdn.com/bootstrap/3.0.0/css/bootstrap.min.css&quot;/&gt;\n",
       "    &lt;link rel=&quot;stylesheet&quot; href=&quot;https://cdn.jsdelivr.net/npm/@fortawesome/fontawesome-free@6.2.0/css/all.min.css&quot;/&gt;\n",
       "    &lt;link rel=&quot;stylesheet&quot; href=&quot;https://cdnjs.cloudflare.com/ajax/libs/Leaflet.awesome-markers/2.0.2/leaflet.awesome-markers.css&quot;/&gt;\n",
       "    &lt;link rel=&quot;stylesheet&quot; href=&quot;https://cdn.jsdelivr.net/gh/python-visualization/folium/folium/templates/leaflet.awesome.rotate.min.css&quot;/&gt;\n",
       "    \n",
       "            &lt;meta name=&quot;viewport&quot; content=&quot;width=device-width,\n",
       "                initial-scale=1.0, maximum-scale=1.0, user-scalable=no&quot; /&gt;\n",
       "            &lt;style&gt;\n",
       "                #map_a547c29e07cb1777fdf05eb59126d212 {\n",
       "                    position: relative;\n",
       "                    width: 100.0%;\n",
       "                    height: 100.0%;\n",
       "                    left: 0.0%;\n",
       "                    top: 0.0%;\n",
       "                }\n",
       "                .leaflet-container { font-size: 1rem; }\n",
       "            &lt;/style&gt;\n",
       "        \n",
       "&lt;/head&gt;\n",
       "&lt;body&gt;\n",
       "    \n",
       "    \n",
       "            &lt;div class=&quot;folium-map&quot; id=&quot;map_a547c29e07cb1777fdf05eb59126d212&quot; &gt;&lt;/div&gt;\n",
       "        \n",
       "&lt;/body&gt;\n",
       "&lt;script&gt;\n",
       "    \n",
       "    \n",
       "            var map_a547c29e07cb1777fdf05eb59126d212 = L.map(\n",
       "                &quot;map_a547c29e07cb1777fdf05eb59126d212&quot;,\n",
       "                {\n",
       "                    center: [40.72902255, -73.81390405827966],\n",
       "                    crs: L.CRS.EPSG3857,\n",
       "                    zoom: 12,\n",
       "                    zoomControl: true,\n",
       "                    preferCanvas: false,\n",
       "                }\n",
       "            );\n",
       "\n",
       "            \n",
       "\n",
       "        \n",
       "    \n",
       "            var tile_layer_235e1562fa8deb6e39e1fc17e587224a = L.tileLayer(\n",
       "                &quot;https://{s}.tile.openstreetmap.org/{z}/{x}/{y}.png&quot;,\n",
       "                {&quot;attribution&quot;: &quot;Data by \\u0026copy; \\u003ca target=\\&quot;_blank\\&quot; href=\\&quot;http://openstreetmap.org\\&quot;\\u003eOpenStreetMap\\u003c/a\\u003e, under \\u003ca target=\\&quot;_blank\\&quot; href=\\&quot;http://www.openstreetmap.org/copyright\\&quot;\\u003eODbL\\u003c/a\\u003e.&quot;, &quot;detectRetina&quot;: false, &quot;maxNativeZoom&quot;: 18, &quot;maxZoom&quot;: 18, &quot;minZoom&quot;: 0, &quot;noWrap&quot;: false, &quot;opacity&quot;: 1, &quot;subdomains&quot;: &quot;abc&quot;, &quot;tms&quot;: false}\n",
       "            ).addTo(map_a547c29e07cb1777fdf05eb59126d212);\n",
       "        \n",
       "    \n",
       "            var marker_bacf304bddd97004b0c3f6860f8c0981 = L.marker(\n",
       "                [40.74476995, -73.88564685011681],\n",
       "                {}\n",
       "            ).addTo(map_a547c29e07cb1777fdf05eb59126d212);\n",
       "        \n",
       "    \n",
       "            marker_bacf304bddd97004b0c3f6860f8c0981.bindTooltip(\n",
       "                `&lt;div&gt;\n",
       "                     Elmhurst Hospital Center\n",
       "                 &lt;/div&gt;`,\n",
       "                {&quot;sticky&quot;: true}\n",
       "            );\n",
       "        \n",
       "    \n",
       "            var marker_34b8ed7c7eda5a3f35b0e3e61fcfdd64 = L.marker(\n",
       "                [40.75544455, -73.81675869639679],\n",
       "                {}\n",
       "            ).addTo(map_a547c29e07cb1777fdf05eb59126d212);\n",
       "        \n",
       "    \n",
       "            marker_34b8ed7c7eda5a3f35b0e3e61fcfdd64.bindTooltip(\n",
       "                `&lt;div&gt;\n",
       "                     Flushing Hospital Medical Center\n",
       "                 &lt;/div&gt;`,\n",
       "                {&quot;sticky&quot;: true}\n",
       "            );\n",
       "        \n",
       "    \n",
       "            var marker_f994d7350c86b4b2c9047ac609ab6f88 = L.marker(\n",
       "                [40.69375095, -73.7813147810893],\n",
       "                {}\n",
       "            ).addTo(map_a547c29e07cb1777fdf05eb59126d212);\n",
       "        \n",
       "    \n",
       "            marker_f994d7350c86b4b2c9047ac609ab6f88.bindTooltip(\n",
       "                `&lt;div&gt;\n",
       "                     Jamaica Hospital Medical Center\n",
       "                 &lt;/div&gt;`,\n",
       "                {&quot;sticky&quot;: true}\n",
       "            );\n",
       "        \n",
       "    \n",
       "            var marker_1252d4b29ee6205e3c4b77cb62e65cba = L.marker(\n",
       "                [40.75549825, -73.7065790958942],\n",
       "                {}\n",
       "            ).addTo(map_a547c29e07cb1777fdf05eb59126d212);\n",
       "        \n",
       "    \n",
       "            marker_1252d4b29ee6205e3c4b77cb62e65cba.bindTooltip(\n",
       "                `&lt;div&gt;\n",
       "                     Long Island Jewish Medical Center\n",
       "                 &lt;/div&gt;`,\n",
       "                {&quot;sticky&quot;: true}\n",
       "            );\n",
       "        \n",
       "    \n",
       "            var marker_f1d4a80c016312d2366e2bbc0a49a1d7 = L.marker(\n",
       "                [40.7178658, -73.80606565938834],\n",
       "                {}\n",
       "            ).addTo(map_a547c29e07cb1777fdf05eb59126d212);\n",
       "        \n",
       "    \n",
       "            marker_f1d4a80c016312d2366e2bbc0a49a1d7.bindTooltip(\n",
       "                `&lt;div&gt;\n",
       "                     Queens Hospital Center\n",
       "                 &lt;/div&gt;`,\n",
       "                {&quot;sticky&quot;: true}\n",
       "            );\n",
       "        \n",
       "    \n",
       "            var marker_5cd5633303625bdca510c940987c8bf4 = L.marker(\n",
       "                [40.5986876, -73.75346070400573],\n",
       "                {}\n",
       "            ).addTo(map_a547c29e07cb1777fdf05eb59126d212);\n",
       "        \n",
       "    \n",
       "            marker_5cd5633303625bdca510c940987c8bf4.bindTooltip(\n",
       "                `&lt;div&gt;\n",
       "                     St John&#x27;s Episcopal Hospital\n",
       "                 &lt;/div&gt;`,\n",
       "                {&quot;sticky&quot;: true}\n",
       "            );\n",
       "        \n",
       "    \n",
       "            var marker_a5aba5e1e4468bd89c96fb4ffdde8b17 = L.marker(\n",
       "                [40.747263450000005, -73.82519382503959],\n",
       "                {}\n",
       "            ).addTo(map_a547c29e07cb1777fdf05eb59126d212);\n",
       "        \n",
       "    \n",
       "            marker_a5aba5e1e4468bd89c96fb4ffdde8b17.bindTooltip(\n",
       "                `&lt;div&gt;\n",
       "                     NewYork-Presbyterian/Queens\n",
       "                 &lt;/div&gt;`,\n",
       "                {&quot;sticky&quot;: true}\n",
       "            );\n",
       "        \n",
       "    \n",
       "            var marker_5dba75e7cf6955fd062477e037fcdf2b = L.marker(\n",
       "                [40.72903425, -73.85155203538207],\n",
       "                {}\n",
       "            ).addTo(map_a547c29e07cb1777fdf05eb59126d212);\n",
       "        \n",
       "    \n",
       "            marker_5dba75e7cf6955fd062477e037fcdf2b.bindTooltip(\n",
       "                `&lt;div&gt;\n",
       "                     Long Island Jewish Forest Hills\n",
       "                 &lt;/div&gt;`,\n",
       "                {&quot;sticky&quot;: true}\n",
       "            );\n",
       "        \n",
       "    \n",
       "            var marker_90e63d35785f3dcd93143a8ba96279e0 = L.marker(\n",
       "                [40.76810675, -73.92493879376337],\n",
       "                {}\n",
       "            ).addTo(map_a547c29e07cb1777fdf05eb59126d212);\n",
       "        \n",
       "    \n",
       "            marker_90e63d35785f3dcd93143a8ba96279e0.bindTooltip(\n",
       "                `&lt;div&gt;\n",
       "                     Mount Sinai Hospital - Mount Sinai Hospital of Queens\n",
       "                 &lt;/div&gt;`,\n",
       "                {&quot;sticky&quot;: true}\n",
       "            );\n",
       "        \n",
       "    \n",
       "            var marker_d19c75684ba05158cf22e45aed127650 = L.marker(\n",
       "                [40.7549376, -73.8931009],\n",
       "                {}\n",
       "            ).addTo(map_a547c29e07cb1777fdf05eb59126d212);\n",
       "        \n",
       "    \n",
       "            marker_d19c75684ba05158cf22e45aed127650.bindTooltip(\n",
       "                `&lt;div&gt;\n",
       "                     New York - Presbyterian/Queens\n",
       "                 &lt;/div&gt;`,\n",
       "                {&quot;sticky&quot;: true}\n",
       "            );\n",
       "        \n",
       "    \n",
       "            var marker_d31568cd00cf892967952da9ef29d9eb = L.marker(\n",
       "                [40.7538889, -73.7083333],\n",
       "                {}\n",
       "            ).addTo(map_a547c29e07cb1777fdf05eb59126d212);\n",
       "        \n",
       "    \n",
       "            marker_d31568cd00cf892967952da9ef29d9eb.bindTooltip(\n",
       "                `&lt;div&gt;\n",
       "                     Cohen Children&#x27;s Medical Center\n",
       "                 &lt;/div&gt;`,\n",
       "                {&quot;sticky&quot;: true}\n",
       "            );\n",
       "        \n",
       "&lt;/script&gt;\n",
       "&lt;/html&gt;\" style=\"position:absolute;width:100%;height:100%;left:0;top:0;border:none !important;\" allowfullscreen webkitallowfullscreen mozallowfullscreen></iframe></div></div>"
      ],
      "text/plain": [
       "<folium.folium.Map at 0x1b282a22e50>"
      ]
     },
     "metadata": {},
     "output_type": "display_data"
    }
   ],
   "source": [
    "#Now that we have the hospital list ands location coordinates we can plot a map in folium with markers for each facility\n",
    "\n",
    "import folium\n",
    "from IPython.display import display\n",
    "\n",
    "center_lat = df4['Latitude'].mean()\n",
    "center_lon = df4['Longitude'].mean()\n",
    "map_center = [center_lat, center_lon]\n",
    "mymap = folium.Map(location=map_center, zoom_start=12)\n",
    "\n",
    "# Adding markers for each facility\n",
    "for index, row in df4.iterrows():\n",
    "    folium.Marker([row['Latitude'], row['Longitude']], tooltip=row['Facility Name']).add_to(mymap)\n",
    "\n",
    "display(mymap)"
   ]
  },
  {
   "cell_type": "code",
   "execution_count": null,
   "id": "d7df23df",
   "metadata": {},
   "outputs": [],
   "source": []
  }
 ],
 "metadata": {
  "kernelspec": {
   "display_name": "Python 3 (ipykernel)",
   "language": "python",
   "name": "python3"
  },
  "language_info": {
   "codemirror_mode": {
    "name": "ipython",
    "version": 3
   },
   "file_extension": ".py",
   "mimetype": "text/x-python",
   "name": "python",
   "nbconvert_exporter": "python",
   "pygments_lexer": "ipython3",
   "version": "3.11.3"
  }
 },
 "nbformat": 4,
 "nbformat_minor": 5
}
