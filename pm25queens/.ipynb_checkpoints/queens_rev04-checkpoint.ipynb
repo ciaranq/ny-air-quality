{
 "cells": [
  {
   "cell_type": "code",
   "execution_count": null,
   "id": "4796d37f",
   "metadata": {},
   "outputs": [],
   "source": [
    "!"
   ]
  },
  {
   "cell_type": "code",
   "execution_count": 1,
   "id": "cb7af8c8",
   "metadata": {},
   "outputs": [
    {
     "ename": "TypeError",
     "evalue": "__init__() got an unexpected keyword argument 'cachedir'",
     "output_type": "error",
     "traceback": [
      "\u001b[1;31m---------------------------------------------------------------------------\u001b[0m",
      "\u001b[1;31mTypeError\u001b[0m                                 Traceback (most recent call last)",
      "\u001b[1;32m~\\AppData\\Local\\Temp\\ipykernel_22392\\746090529.py\u001b[0m in \u001b[0;36m<module>\u001b[1;34m\u001b[0m\n\u001b[0;32m     14\u001b[0m \u001b[1;33m\u001b[0m\u001b[0m\n\u001b[0;32m     15\u001b[0m \u001b[1;33m\u001b[0m\u001b[0m\n\u001b[1;32m---> 16\u001b[1;33m \u001b[1;32mimport\u001b[0m \u001b[0mmglearn\u001b[0m\u001b[1;33m\u001b[0m\u001b[1;33m\u001b[0m\u001b[0m\n\u001b[0m\u001b[0;32m     17\u001b[0m \u001b[1;32mimport\u001b[0m \u001b[0mwarnings\u001b[0m\u001b[1;33m\u001b[0m\u001b[1;33m\u001b[0m\u001b[0m\n\u001b[0;32m     18\u001b[0m \u001b[0mwarnings\u001b[0m\u001b[1;33m.\u001b[0m\u001b[0mfilterwarnings\u001b[0m\u001b[1;33m(\u001b[0m\u001b[1;34m\"ignore\"\u001b[0m\u001b[1;33m)\u001b[0m\u001b[1;33m\u001b[0m\u001b[1;33m\u001b[0m\u001b[0m\n",
      "\u001b[1;32m~\\AppData\\Roaming\\Python\\Python39\\site-packages\\mglearn\\__init__.py\u001b[0m in \u001b[0;36m<module>\u001b[1;34m\u001b[0m\n\u001b[1;32m----> 1\u001b[1;33m \u001b[1;32mfrom\u001b[0m \u001b[1;33m.\u001b[0m \u001b[1;32mimport\u001b[0m \u001b[0mplots\u001b[0m\u001b[1;33m\u001b[0m\u001b[1;33m\u001b[0m\u001b[0m\n\u001b[0m\u001b[0;32m      2\u001b[0m \u001b[1;32mfrom\u001b[0m \u001b[1;33m.\u001b[0m \u001b[1;32mimport\u001b[0m \u001b[0mtools\u001b[0m\u001b[1;33m\u001b[0m\u001b[1;33m\u001b[0m\u001b[0m\n\u001b[0;32m      3\u001b[0m \u001b[1;32mfrom\u001b[0m \u001b[1;33m.\u001b[0m\u001b[0mplots\u001b[0m \u001b[1;32mimport\u001b[0m \u001b[0mcm3\u001b[0m\u001b[1;33m,\u001b[0m \u001b[0mcm2\u001b[0m\u001b[1;33m\u001b[0m\u001b[1;33m\u001b[0m\u001b[0m\n\u001b[0;32m      4\u001b[0m \u001b[1;32mfrom\u001b[0m \u001b[1;33m.\u001b[0m\u001b[0mtools\u001b[0m \u001b[1;32mimport\u001b[0m \u001b[0mdiscrete_scatter\u001b[0m\u001b[1;33m\u001b[0m\u001b[1;33m\u001b[0m\u001b[0m\n\u001b[0;32m      5\u001b[0m \u001b[1;32mfrom\u001b[0m \u001b[1;33m.\u001b[0m\u001b[0mplot_helpers\u001b[0m \u001b[1;32mimport\u001b[0m \u001b[0mReBl\u001b[0m\u001b[1;33m\u001b[0m\u001b[1;33m\u001b[0m\u001b[0m\n",
      "\u001b[1;32m~\\AppData\\Roaming\\Python\\Python39\\site-packages\\mglearn\\plots.py\u001b[0m in \u001b[0;36m<module>\u001b[1;34m\u001b[0m\n\u001b[0;32m     12\u001b[0m \u001b[1;32mfrom\u001b[0m \u001b[1;33m.\u001b[0m\u001b[0mplot_tree_nonmonotonous\u001b[0m \u001b[1;32mimport\u001b[0m \u001b[0mplot_tree_not_monotone\u001b[0m\u001b[1;33m\u001b[0m\u001b[1;33m\u001b[0m\u001b[0m\n\u001b[0;32m     13\u001b[0m \u001b[1;32mfrom\u001b[0m \u001b[1;33m.\u001b[0m\u001b[0mplot_scaling\u001b[0m \u001b[1;32mimport\u001b[0m \u001b[0mplot_scaling\u001b[0m\u001b[1;33m\u001b[0m\u001b[1;33m\u001b[0m\u001b[0m\n\u001b[1;32m---> 14\u001b[1;33m \u001b[1;32mfrom\u001b[0m \u001b[1;33m.\u001b[0m\u001b[0mplot_pca\u001b[0m \u001b[1;32mimport\u001b[0m \u001b[0mplot_pca_illustration\u001b[0m\u001b[1;33m,\u001b[0m \u001b[0mplot_pca_whitening\u001b[0m\u001b[1;33m,\u001b[0m \u001b[0mplot_pca_faces\u001b[0m\u001b[1;33m\u001b[0m\u001b[1;33m\u001b[0m\u001b[0m\n\u001b[0m\u001b[0;32m     15\u001b[0m \u001b[1;32mfrom\u001b[0m \u001b[1;33m.\u001b[0m\u001b[0mplot_decomposition\u001b[0m \u001b[1;32mimport\u001b[0m \u001b[0mplot_decomposition\u001b[0m\u001b[1;33m\u001b[0m\u001b[1;33m\u001b[0m\u001b[0m\n\u001b[0;32m     16\u001b[0m \u001b[1;32mfrom\u001b[0m \u001b[1;33m.\u001b[0m\u001b[0mplot_nmf\u001b[0m \u001b[1;32mimport\u001b[0m \u001b[0mplot_nmf_illustration\u001b[0m\u001b[1;33m,\u001b[0m \u001b[0mplot_nmf_faces\u001b[0m\u001b[1;33m\u001b[0m\u001b[1;33m\u001b[0m\u001b[0m\n",
      "\u001b[1;32m~\\AppData\\Roaming\\Python\\Python39\\site-packages\\mglearn\\plot_pca.py\u001b[0m in \u001b[0;36m<module>\u001b[1;34m\u001b[0m\n\u001b[0;32m      5\u001b[0m \u001b[1;32mfrom\u001b[0m \u001b[0mjoblib\u001b[0m \u001b[1;32mimport\u001b[0m \u001b[0mMemory\u001b[0m\u001b[1;33m\u001b[0m\u001b[1;33m\u001b[0m\u001b[0m\n\u001b[0;32m      6\u001b[0m \u001b[1;33m\u001b[0m\u001b[0m\n\u001b[1;32m----> 7\u001b[1;33m \u001b[0mmemory\u001b[0m \u001b[1;33m=\u001b[0m \u001b[0mMemory\u001b[0m\u001b[1;33m(\u001b[0m\u001b[0mcachedir\u001b[0m\u001b[1;33m=\u001b[0m\u001b[1;34m\"cache\"\u001b[0m\u001b[1;33m)\u001b[0m\u001b[1;33m\u001b[0m\u001b[1;33m\u001b[0m\u001b[0m\n\u001b[0m\u001b[0;32m      8\u001b[0m \u001b[1;33m\u001b[0m\u001b[0m\n\u001b[0;32m      9\u001b[0m \u001b[1;33m\u001b[0m\u001b[0m\n",
      "\u001b[1;31mTypeError\u001b[0m: __init__() got an unexpected keyword argument 'cachedir'"
     ]
    }
   ],
   "source": [
    "import pandas as pd\n",
    "import numpy as np\n",
    "import matplotlib.pyplot as plt\n",
    "import seaborn as sns\n",
    "import folium\n",
    "from folium.plugins import MarkerCluster\n",
    "from sklearn.ensemble import RandomForestClassifier\n",
    "from sklearn.model_selection import train_test_split, cross_val_score\n",
    "from sklearn.metrics import r2_score, mean_squared_error, mean_absolute_error\n",
    "from sklearn.metrics import confusion_matrix, ConfusionMatrixDisplay\n",
    "from sklearn.neighbors import KNeighborsClassifier\n",
    "from sklearn import metrics\n",
    "from sklearn.metrics import classification_report\n",
    "\n",
    "\n",
    "import mglearn \n",
    "import warnings\n",
    "warnings.filterwarnings(\"ignore\")"
   ]
  },
  {
   "cell_type": "code",
   "execution_count": null,
   "id": "59693432",
   "metadata": {},
   "outputs": [],
   "source": [
    "# Read in the csv data for years 1999-2023 for PM2.5 concentration\n",
    "df1 = pd.read_csv(\"ad_viz_plotval_data.csv\")\n",
    "df2 = pd.read_csv(\"ad_viz_plotval_data (2).csv\")\n",
    "df3 = pd.read_csv(\"ad_viz_plotval_data (3).csv\")\n",
    "df4 = pd.read_csv(\"ad_viz_plotval_data (4).csv\")\n",
    "df5 = pd.read_csv(\"ad_viz_plotval_data (5).csv\")\n",
    "df6 = pd.read_csv(\"ad_viz_plotval_data (6).csv\")\n",
    "df7 = pd.read_csv(\"ad_viz_plotval_data (7).csv\")\n",
    "df8 = pd.read_csv(\"ad_viz_plotval_data (8).csv\")\n",
    "df9 = pd.read_csv(\"ad_viz_plotval_data (9).csv\")\n",
    "df10 = pd.read_csv(\"ad_viz_plotval_data (10).csv\")\n",
    "df11 = pd.read_csv(\"ad_viz_plotval_data (11).csv\")\n",
    "df12 = pd.read_csv(\"ad_viz_plotval_data (12).csv\")\n",
    "df13 = pd.read_csv(\"ad_viz_plotval_data (13).csv\")\n",
    "df14 = pd.read_csv(\"ad_viz_plotval_data (14).csv\")\n",
    "df15 = pd.read_csv(\"ad_viz_plotval_data (15).csv\")\n",
    "df16 = pd.read_csv(\"ad_viz_plotval_data (16).csv\")\n",
    "df17 = pd.read_csv(\"ad_viz_plotval_data (17).csv\")\n",
    "df18 = pd.read_csv(\"ad_viz_plotval_data (18).csv\")\n",
    "df19 = pd.read_csv(\"ad_viz_plotval_data (19).csv\")\n",
    "df20 = pd.read_csv(\"ad_viz_plotval_data (20).csv\")\n",
    "df21 = pd.read_csv(\"ad_viz_plotval_data (21).csv\")\n",
    "df22 = pd.read_csv(\"ad_viz_plotval_data (22).csv\")\n",
    "df23 = pd.read_csv(\"ad_viz_plotval_data (23).csv\")\n",
    "df24 = pd.read_csv(\"ad_viz_plotval_data (24).csv\")\n"
   ]
  },
  {
   "cell_type": "code",
   "execution_count": null,
   "id": "88e60789",
   "metadata": {},
   "outputs": [],
   "source": [
    "# Concatenate the dataframes on column axis\n",
    "df = pd.concat([df1, df2, df3, df4, df5, df6, df7, df8, df9, df10, df11, df12, df13, df14, df15, df16, df17, df18, df19, df20, df21, df22, df23, df24], axis=0)"
   ]
  },
  {
   "cell_type": "markdown",
   "id": "e09e857e",
   "metadata": {},
   "source": [
    "# Data Exploration"
   ]
  },
  {
   "cell_type": "code",
   "execution_count": null,
   "id": "9e8a7d88",
   "metadata": {},
   "outputs": [],
   "source": [
    "# Inspect the data\n",
    "df.info()"
   ]
  },
  {
   "cell_type": "code",
   "execution_count": null,
   "id": "cb200ae7",
   "metadata": {},
   "outputs": [],
   "source": [
    "# Check for missing values\n",
    "df.isnull().sum()"
   ]
  },
  {
   "cell_type": "code",
   "execution_count": null,
   "id": "93c04554",
   "metadata": {},
   "outputs": [],
   "source": [
    "# Check for duplicates\n",
    "df.duplicated().sum()"
   ]
  },
  {
   "cell_type": "code",
   "execution_count": null,
   "id": "e28830ac",
   "metadata": {},
   "outputs": [],
   "source": [
    "sum(df.duplicated())"
   ]
  },
  {
   "cell_type": "code",
   "execution_count": null,
   "id": "1b9dd2f1",
   "metadata": {},
   "outputs": [],
   "source": [
    "# Inspect the first 5 rows\n",
    "df.head()"
   ]
  },
  {
   "cell_type": "code",
   "execution_count": null,
   "id": "f33e0fc0",
   "metadata": {},
   "outputs": [],
   "source": [
    "# Standarize column names and make them more computer readable\n",
    "df.columns = df.columns.str.replace(\" \", \"_\")\n",
    "df.columns = df.columns.str.replace(\".\", \"_\")\n",
    "df.columns = df.columns.str.lower()\n",
    "df.columns = df.columns.str.replace(\"-\", \"_\")"
   ]
  },
  {
   "cell_type": "code",
   "execution_count": null,
   "id": "ba0d837e",
   "metadata": {},
   "outputs": [],
   "source": [
    "# Visalize the data on a map\n",
    "center_lat = df['site_latitude'].mean()\n",
    "center_lon = df['site_longitude'].mean()\n",
    "m = folium.Map(location=[center_lat, center_lon], zoom_start=10)\n",
    "\n",
    "# Create a MarkerCluster layer and add markers for each data point\n",
    "marker_cluster = MarkerCluster().add_to(m)\n",
    "for index, row in df.iterrows():\n",
    "    folium.Marker(location=[row['site_latitude'], row['site_longitude']]).add_to(marker_cluster)\n",
    "\n",
    "# Display the map\n",
    "m"
   ]
  },
  {
   "cell_type": "code",
   "execution_count": null,
   "id": "c95aa0c3",
   "metadata": {},
   "outputs": [],
   "source": [
    "df.info()"
   ]
  },
  {
   "cell_type": "code",
   "execution_count": null,
   "id": "8183a0b5",
   "metadata": {},
   "outputs": [],
   "source": []
  },
  {
   "cell_type": "code",
   "execution_count": null,
   "id": "e66cca6a",
   "metadata": {},
   "outputs": [],
   "source": []
  },
  {
   "cell_type": "code",
   "execution_count": null,
   "id": "3dfbef26",
   "metadata": {},
   "outputs": [],
   "source": [
    "# Inspect all the data\n",
    "df.describe(include='all').transpose()"
   ]
  },
  {
   "cell_type": "code",
   "execution_count": null,
   "id": "ee549f65",
   "metadata": {},
   "outputs": [],
   "source": [
    "# Change date format to datetime\n",
    "df[\"date\"] = pd.to_datetime(df[\"date\"], format=\"%m/%d/%Y\")\n",
    "# Extract useful features from the date column\n",
    "df[\"year\"] = df[\"date\"].dt.year\n",
    "df[\"month\"] = df[\"date\"].dt.month\n",
    "df[\"day\"] = df[\"date\"].dt.day"
   ]
  },
  {
   "cell_type": "markdown",
   "id": "8ba88d5c",
   "metadata": {},
   "source": [
    " Since we are the data is linear we sort the data by date"
   ]
  },
  {
   "cell_type": "code",
   "execution_count": null,
   "id": "4495c7d3",
   "metadata": {},
   "outputs": [],
   "source": [
    "df = df.sort_values(\"date\")"
   ]
  },
  {
   "cell_type": "markdown",
   "id": "ac5d4385",
   "metadata": {},
   "source": [
    "# Create a sample scatter plots of PM2.5 concentration and AQI value against date"
   ]
  },
  {
   "cell_type": "code",
   "execution_count": null,
   "id": "ad6e9346",
   "metadata": {},
   "outputs": [],
   "source": [
    "import matplotlib.pyplot as plt\n",
    "import matplotlib.dates as mdates\n",
    "\n",
    "\n",
    "x = mdates.date2num(df[\"date\"]) # convert dates to numerical format\n",
    "y = df[\"daily_mean_pm2_5_concentration\"]\n",
    "\n",
    "plt.figure(figsize=(15, 8))\n",
    "\n",
    "# create scatter plot\n",
    "plt.scatter(x, y)\n",
    "\n",
    "# set x-axis limits\n",
    "#min_date = mdates.date2num(pd.to_datetime('2000-01-01'))\n",
    "#max_date = mdates.date2num(pd.to_datetime('2022-12-31'))\n",
    "#plt.xlim(min_date, max_date)\n",
    "\n",
    "\n",
    "\n",
    "# add labels and title\n",
    "plt.xlabel(\"Date\")\n",
    "plt.ylabel(\"Daily Mean PM 2.5 Concentration\")\n",
    "plt.title(\"Scatter Plot of Daily Mean PM 2.5 Concentration\")\n",
    "\n",
    "# add a vertical line on a specific date, NYC Pause\n",
    "specific_date = pd.to_datetime(\"2020-03-22\")\n",
    "plt.axvline(x=mdates.date2num(specific_date), color=\"red\")\n",
    "\n",
    "\n",
    "plt.show()"
   ]
  },
  {
   "cell_type": "code",
   "execution_count": null,
   "id": "517cf848",
   "metadata": {},
   "outputs": [],
   "source": [
    "import matplotlib.pyplot as plt\n",
    "import matplotlib.dates as mdates\n",
    "\n",
    "# Assume `df` is a pandas DataFrame that contains the data\n",
    "x = mdates.date2num(df[\"date\"]) # convert dates to numerical format\n",
    "y = df[\"daily_aqi_value\"]\n",
    "\n",
    "plt.figure(figsize=(15, 8))\n",
    "\n",
    "# create scatter plot\n",
    "plt.scatter(x, y)\n",
    "\n",
    "# set x-axis limits\n",
    "#min_date = mdates.date2num(pd.to_datetime('2000-01-01'))\n",
    "#max_date = mdates.date2num(pd.to_datetime('2022-12-31'))\n",
    "#plt.xlim(min_date, max_date)\n",
    "\n",
    "\n",
    "\n",
    "# add labels and title\n",
    "plt.xlabel(\"Date\")\n",
    "plt.ylabel(\"Daily AQI Value\")\n",
    "plt.title(\"Scatter Plot of Daily AQI Value\")\n",
    "\n",
    "# add a vertical line on a specific date, NYC Pause\n",
    "specific_date = pd.to_datetime(\"2020-03-22\")\n",
    "plt.axvline(x=mdates.date2num(specific_date), color=\"red\")\n",
    "\n",
    "\n",
    "plt.show()"
   ]
  },
  {
   "cell_type": "code",
   "execution_count": null,
   "id": "4a81a31f",
   "metadata": {},
   "outputs": [],
   "source": [
    "# Check the number of unique values in each column\n",
    "\n",
    "df.nunique()"
   ]
  },
  {
   "cell_type": "markdown",
   "id": "f4156e7a",
   "metadata": {},
   "source": [
    "# Data Exploration Results "
   ]
  },
  {
   "cell_type": "markdown",
   "id": "febc5f32",
   "metadata": {},
   "source": [
    " Description of Variables   \n",
    "   \n",
    "    date                              7964  Qualitative. Rejected. We have extracted useful features from the date column\n",
    "    source                               2  Categorical. Selected\n",
    "    site_id                              6  Categorical. Rejected. Same as site_name\n",
    "    poc                                  5  Categorical. Selected\n",
    "    daily_mean_pm2_5_concentration     430  Quantitative. Selected\n",
    "    units                                1  Categorical. Rejected. Same for all columns\n",
    "    daily_aqi_value                    141  Quantitative. Selected. Our Target variable\n",
    "    site_name                            6  Categorical. Selected\n",
    "    daily_obs_count                      1  Quantitative. Rejected. Same for all columns\n",
    "    percent_complete                     1  Quantitative. Rejected. Same for all columns\n",
    "    aqs_parameter_code                   2  Categorical. Rejected. Taking information from column below\n",
    "    aqs_parameter_desc                   2  Categorical. Selected. \n",
    "    cbsa_code                            1  Categorical. Rejected. Same for all columns\n",
    "    cbsa_name                            1  Categorical. Rejected. Same for all columns\n",
    "    state_code                           1  Categorical. Rejected. Same for all columns\n",
    "    state                                1  Categorical. Rejected. Same for all columns\n",
    "    county_code                          1  Categorical. Rejected. Same for all columns\n",
    "    county                               1  Categorical. Rejected. Same for all columns\n",
    "    site_latitude                        6  Quantitative. Rejected.\n",
    "    site_longitude                       6  Quantitative. Rejected.\n",
    "    year                                24  Quantitative. Selected\n",
    "    month                               12  Quantitative. Selected\n",
    "    day                                 31  Quantitative. Selected"
   ]
  },
  {
   "cell_type": "code",
   "execution_count": null,
   "id": "982e63ae",
   "metadata": {},
   "outputs": [],
   "source": [
    "# Deleting rejected columns\n",
    "\n",
    "rejected = [\"date\", \"site_id\" , \"units\" , \"daily_obs_count\" , \"percent_complete\" , \"aqs_parameter_code\" , \"cbsa_code\" , \"cbsa_name\" , \"state_code\" , \"state\" , \"county_code\" , \"county\" , \"site_latitude\", \"site_longitude\"]\n",
    "\n",
    "df = df.drop(rejected, axis=1)"
   ]
  },
  {
   "cell_type": "code",
   "execution_count": null,
   "id": "48e99175",
   "metadata": {},
   "outputs": [],
   "source": []
  },
  {
   "cell_type": "code",
   "execution_count": null,
   "id": "41cb6770",
   "metadata": {},
   "outputs": [],
   "source": []
  },
  {
   "cell_type": "code",
   "execution_count": null,
   "id": "5460ddea",
   "metadata": {},
   "outputs": [],
   "source": [
    "df[\"aqs_parameter_desc\"].value_counts()"
   ]
  },
  {
   "cell_type": "markdown",
   "id": "b67e9b8b",
   "metadata": {},
   "source": [
    "# Visualize the data by Visual Exploratory Data Analysis"
   ]
  },
  {
   "cell_type": "code",
   "execution_count": null,
   "id": "dd1da2e5",
   "metadata": {},
   "outputs": [],
   "source": [
    "df.info()"
   ]
  },
  {
   "cell_type": "code",
   "execution_count": null,
   "id": "d3938ae3",
   "metadata": {},
   "outputs": [],
   "source": [
    "df.head()"
   ]
  },
  {
   "cell_type": "code",
   "execution_count": null,
   "id": "944728ba",
   "metadata": {},
   "outputs": [],
   "source": [
    "df.hist(['daily_mean_pm2_5_concentration','daily_aqi_value'], figsize=(18,5));"
   ]
  },
  {
   "cell_type": "code",
   "execution_count": null,
   "id": "813c507b",
   "metadata": {},
   "outputs": [],
   "source": [
    "# create a figure with two subplots\n",
    "fig, axes = plt.subplots(nrows=1, ncols=2, figsize=(10, 5))\n",
    "\n",
    "# plot the distributions on\n",
    "sns.distplot(df[\"daily_mean_pm2_5_concentration\"], ax=axes[0])\n",
    "sns.distplot(df[\"daily_aqi_value\"], ax=axes[1])\n",
    "plt.show()"
   ]
  },
  {
   "cell_type": "code",
   "execution_count": null,
   "id": "3239303b",
   "metadata": {},
   "outputs": [],
   "source": [
    "# Some outliners in both graphs to be inspected further"
   ]
  },
  {
   "cell_type": "code",
   "execution_count": null,
   "id": "88b2003d",
   "metadata": {},
   "outputs": [],
   "source": [
    "df.describe(include='all').transpose()"
   ]
  },
  {
   "cell_type": "code",
   "execution_count": null,
   "id": "94ea109b",
   "metadata": {},
   "outputs": [],
   "source": []
  },
  {
   "cell_type": "code",
   "execution_count": null,
   "id": "548f8e31",
   "metadata": {},
   "outputs": [],
   "source": [
    "# Daily mean PM2.5 concentration can't be a negative number, let's check how many rows are with negative values"
   ]
  },
  {
   "cell_type": "code",
   "execution_count": null,
   "id": "611b5dca",
   "metadata": {},
   "outputs": [],
   "source": [
    "# Count the number of values in the column that are less than 0\n",
    "num_negative_values = len(df[df[\"daily_mean_pm2_5_concentration\"] < 0])\n",
    "print(f\"There are {num_negative_values} values in the column that are less than 0.\")"
   ]
  },
  {
   "cell_type": "code",
   "execution_count": null,
   "id": "5561f062",
   "metadata": {},
   "outputs": [],
   "source": [
    "# Drop all the rows where the specified column has negative values\n",
    "df = df[df['daily_mean_pm2_5_concentration'] >= 0]\n",
    "\n",
    "\n"
   ]
  },
  {
   "cell_type": "code",
   "execution_count": null,
   "id": "ca125528",
   "metadata": {},
   "outputs": [],
   "source": [
    "df.hist(['daily_mean_pm2_5_concentration','daily_aqi_value'], figsize=(18,5));"
   ]
  },
  {
   "cell_type": "code",
   "execution_count": null,
   "id": "ad1d1751",
   "metadata": {},
   "outputs": [],
   "source": [
    "# Plot target variable against year\n",
    "\n",
    "plt.figure(figsize=(20,10))\n",
    "plt.xticks(rotation=90)\n",
    "sns.barplot(x=\"year\", y=\"daily_aqi_value\", data=df)"
   ]
  },
  {
   "cell_type": "code",
   "execution_count": null,
   "id": "5a2a8c1d",
   "metadata": {},
   "outputs": [],
   "source": []
  },
  {
   "cell_type": "code",
   "execution_count": null,
   "id": "d1518000",
   "metadata": {},
   "outputs": [],
   "source": [
    "plt.figure(figsize=(20,10))\n",
    "plt.xticks(rotation=90)\n",
    "sns.barplot(x=\"year\", y=\"daily_mean_pm2_5_concentration\", data=df)"
   ]
  },
  {
   "cell_type": "code",
   "execution_count": null,
   "id": "f76357ef",
   "metadata": {},
   "outputs": [],
   "source": [
    "plt.figure(figsize=(20,10))\n",
    "plt.xticks(rotation=90)\n",
    "sns.barplot(x=\"month\", y=\"daily_mean_pm2_5_concentration\", data=df)"
   ]
  },
  {
   "cell_type": "code",
   "execution_count": null,
   "id": "f513b1fd",
   "metadata": {},
   "outputs": [],
   "source": [
    "plt.figure(figsize=(20,10))\n",
    "plt.xticks(rotation=90)\n",
    "sns.barplot(x=\"month\", y=\"daily_aqi_value\", data=df)"
   ]
  },
  {
   "cell_type": "code",
   "execution_count": null,
   "id": "0214b40c",
   "metadata": {},
   "outputs": [],
   "source": [
    "# Plot Daily mean PM2.5 concentration against site name\n",
    "df[[\"daily_mean_pm2_5_concentration\",\"site_name\"]].groupby(\"site_name\").mean().sort_values(\"daily_mean_pm2_5_concentration\").plot.bar(color=\"blue\")\n",
    "plt.show()"
   ]
  },
  {
   "cell_type": "code",
   "execution_count": null,
   "id": "cec0d15c",
   "metadata": {},
   "outputs": [],
   "source": [
    "# Plot daily_aqi_value against site name\n",
    "df[[\"daily_aqi_value\",\"site_name\"]].groupby(\"site_name\").mean().sort_values(\"daily_aqi_value\").plot.bar(color=\"blue\")\n",
    "plt.show()"
   ]
  },
  {
   "cell_type": "code",
   "execution_count": null,
   "id": "9a1298ce",
   "metadata": {},
   "outputs": [],
   "source": [
    "#Percentage of where the results were taken\n",
    "\n",
    "df_aqi_per_site = df[[\"site_name\", \"daily_aqi_value\"]].groupby(by=\"site_name\").count().reset_index()\n",
    "df_aqi_per_site.rename(columns={\"daily_aqi_value\": \"Count sales no.\"}, inplace=True)\n",
    "\n",
    "\n",
    "#Generate vizualization plot\n",
    "plt.pie(df_aqi_per_site[\"Count sales no.\"], labels=df_aqi_per_site[\"site_name\"],  autopct=\"%1.1f%%\", labeldistance=1.1)\n",
    "plt.title(\"Percentage of values counted per site\")\n",
    "\n",
    "plt.show()"
   ]
  },
  {
   "cell_type": "code",
   "execution_count": null,
   "id": "fd626f43",
   "metadata": {},
   "outputs": [],
   "source": [
    "# Plot site name to aqi value\n",
    "plt.figure(figsize=(10,6))\n",
    "sns.boxplot(x=\"daily_aqi_value\", y=\"site_name\", data=df)\n",
    "plt.title(\"Site location vs daily_aqi_value\")\n",
    "plt.show()"
   ]
  },
  {
   "cell_type": "markdown",
   "id": "8ae7d18a",
   "metadata": {},
   "source": [
    "# Preprocessing for Machine Learning Models"
   ]
  },
  {
   "cell_type": "code",
   "execution_count": null,
   "id": "02cf2d40",
   "metadata": {},
   "outputs": [],
   "source": [
    "# Define the AQI categories and their corresponding ranges\n",
    "aqi_ranges = {'Good': (0, 50),\n",
    "              'Moderate': (51, 100),\n",
    "              'Unhealthy for Sensitive Groups': (101, 150),\n",
    "              'Unhealthy': (151, 200),\n",
    "              'Very Unhealthy': (201, 300),\n",
    "              'Hazardous': (301, float('inf'))}\n"
   ]
  },
  {
   "cell_type": "code",
   "execution_count": null,
   "id": "badaa88b",
   "metadata": {},
   "outputs": [],
   "source": [
    "# Create a new column called \"aqi_category\"\n",
    "df['aqi_category'] = ''\n",
    "\n",
    "# Assign each value in the \"daily_aqi_value\" column to an AQI category\n",
    "for category, (lower, upper) in aqi_ranges.items():\n",
    "    df.loc[(df['daily_aqi_value'] >= lower) & (df['daily_aqi_value'] <= upper), 'aqi_category'] = category"
   ]
  },
  {
   "cell_type": "code",
   "execution_count": null,
   "id": "f7e17b5d",
   "metadata": {},
   "outputs": [],
   "source": []
  },
  {
   "cell_type": "code",
   "execution_count": null,
   "id": "7c59dc5b",
   "metadata": {},
   "outputs": [],
   "source": [
    "df.info()"
   ]
  },
  {
   "cell_type": "code",
   "execution_count": null,
   "id": "6b49853e",
   "metadata": {},
   "outputs": [],
   "source": [
    "# Converting the target cariable to numeric\n",
    "\n",
    "df['aqi_category'].replace('Good', 0, inplace = True)\n",
    "df['aqi_category'].replace('Moderate', 1, inplace = True)\n",
    "df['aqi_category'].replace('Unhealthy for Sensitive Groups', 2, inplace = True)\n",
    "df['aqi_category'].replace('Unhealthy', 3, inplace = True)\n",
    "df['aqi_category'].replace('Very Unhealthy', 4, inplace = True)\n",
    "df['aqi_category'].replace('Hazardous', 5, inplace = True)"
   ]
  },
  {
   "cell_type": "code",
   "execution_count": null,
   "id": "c669dd86",
   "metadata": {},
   "outputs": [],
   "source": []
  },
  {
   "cell_type": "code",
   "execution_count": null,
   "id": "704b70c2",
   "metadata": {},
   "outputs": [],
   "source": [
    "plt.figure(figsize=(12, 10))\n",
    "sns.heatmap(df.corr(), cmap=\"coolwarm\", annot=True)\n",
    "plt.title(\"Correlation Matrix\")\n",
    "plt.show()"
   ]
  },
  {
   "cell_type": "markdown",
   "id": "36687ebb",
   "metadata": {},
   "source": [
    "# Getting dummies on categorical variables"
   ]
  },
  {
   "cell_type": "code",
   "execution_count": null,
   "id": "bd1be286",
   "metadata": {},
   "outputs": [],
   "source": [
    "df.info()"
   ]
  },
  {
   "cell_type": "code",
   "execution_count": null,
   "id": "6136a76d",
   "metadata": {},
   "outputs": [],
   "source": [
    "dummies_cols = pd.get_dummies(df[[\"source\", \"site_name\", \"aqs_parameter_desc\"]])\n",
    "numerical_cols = df[[\"poc\", \"daily_mean_pm2_5_concentration\", \"daily_aqi_value\", \"year\", \"month\", \"day\" ,\"aqi_category\"]]\n",
    "# add the dummy variables to the original dataframe\n",
    "df = pd.concat([numerical_cols, dummies_cols], axis=1)\n",
    "\n",
    "\n",
    "\n"
   ]
  },
  {
   "cell_type": "markdown",
   "id": "13746c60",
   "metadata": {},
   "source": [
    "# Random Forest Classifier Model"
   ]
  },
  {
   "cell_type": "code",
   "execution_count": null,
   "id": "a59344de",
   "metadata": {},
   "outputs": [],
   "source": [
    "#Lets show information about the columns after scaling and encoding.\n",
    "df.info()"
   ]
  },
  {
   "cell_type": "code",
   "execution_count": null,
   "id": "aa567306",
   "metadata": {},
   "outputs": [],
   "source": [
    "# separate the predictor columns from the target column\n",
    "X = df.drop([\"aqi_category\",\"daily_aqi_value\"], axis=1)\n",
    "y = df[\"aqi_category\"]\n",
    "\n",
    "# split the data into training and testing sets\n",
    "X_train, X_test, y_train, y_test = train_test_split(X, y, test_size=0.2, random_state=42)\n",
    "\n",
    "# create a random forest classifier with 200 trees\n",
    "rfc = RandomForestClassifier(n_estimators=200, random_state=42)\n",
    "\n",
    "# fit the classifier to the training data\n",
    "rfc.fit(X_train, y_train)\n",
    "\n",
    "# predict the classes of the testing data\n",
    "y_pred = rfc.predict(X_test)\n",
    "\n",
    "# evaluate the accuracy of the classifier\n",
    "accuracy = rfc.score(X_test, y_test)\n",
    "print(\"Accuracy:\", accuracy)\n"
   ]
  },
  {
   "cell_type": "code",
   "execution_count": null,
   "id": "d8f51e97",
   "metadata": {},
   "outputs": [],
   "source": [
    "# Display the classification report\n",
    "print(metrics.classification_report(y_test, y_pred))"
   ]
  },
  {
   "cell_type": "code",
   "execution_count": null,
   "id": "f16980cd",
   "metadata": {},
   "outputs": [],
   "source": [
    "cm = metrics.confusion_matrix(y_test, y_pred)\n",
    "print(cm)"
   ]
  },
  {
   "cell_type": "code",
   "execution_count": null,
   "id": "3b63231a",
   "metadata": {},
   "outputs": [],
   "source": [
    "mapping = {0:'Good', 1:'Moderate', 2:'Unhealthy for Sensitive Groups', 3:'Unhealthy', 4:'Very Unhealthy', 5:'Hazardous'}\n",
    "classesMapped = [mapping.get(value, value) for value in rfc.classes_]\n",
    "\n",
    "disp = ConfusionMatrixDisplay(confusion_matrix=cm,\n",
    "                              display_labels=classesMapped)\n",
    "disp.plot()\n",
    "plt.show()"
   ]
  },
  {
   "cell_type": "code",
   "execution_count": null,
   "id": "a44cc3ad",
   "metadata": {},
   "outputs": [],
   "source": [
    "# Display the classification report\n",
    "print(classification_report(y_test, y_pred))"
   ]
  },
  {
   "cell_type": "code",
   "execution_count": null,
   "id": "d6ec0dfe",
   "metadata": {},
   "outputs": [],
   "source": [
    "neighbors = np.arange(1, 11)                  # number of neighbors\n",
    "train_accuracy = np.zeros(len(neighbors))     # Declare and initialise the matrix\n",
    "test_accuracy = np.zeros(len(neighbors))      # Declare and initialise the matrix"
   ]
  },
  {
   "cell_type": "code",
   "execution_count": null,
   "id": "1c26e9a4",
   "metadata": {},
   "outputs": [],
   "source": [
    "for i, k in enumerate(neighbors):                          \n",
    "    kNN = KNeighborsClassifier(n_neighbors = k)            # Initialise an object knn using KNeighborsClassifier method\n",
    "\n",
    "    # Fit the model\n",
    "    kNN.fit(X_train, y_train)                              # Call fit method to implement the ML KNeighborsClassifier model\n",
    "\n",
    "    # Compute accuracy on the training set\n",
    "    train_accuracy[i] = kNN.score(X_train, y_train)        # Save the score value in the train_accuracy array\n",
    "\n",
    "    # Compute accuracy on the test set\n",
    "    test_accuracy[i] = kNN.score(X_test, y_test) "
   ]
  },
  {
   "cell_type": "code",
   "execution_count": null,
   "id": "0e0b5362",
   "metadata": {},
   "outputs": [],
   "source": [
    "plt.figure(figsize = (10, 5))\n",
    "plt.title('KNN accuracy with varying number of neighbors', fontsize = 20)\n",
    "plt.plot(neighbors, test_accuracy, label = 'Testing Accuracy')\n",
    "plt.plot(neighbors, train_accuracy, label = 'Training accuracy')\n",
    "plt.legend(prop={'size': 20})\n",
    "plt.xlabel('Number of neighbors', fontsize = 20)\n",
    "plt.ylabel('Accuracy', fontsize = 20)\n",
    "plt.xticks(fontsize = 20)\n",
    "plt.yticks(fontsize = 20)\n",
    "plt.show()"
   ]
  },
  {
   "cell_type": "code",
   "execution_count": null,
   "id": "ee105ca6",
   "metadata": {},
   "outputs": [],
   "source": [
    "# plot k-neighbors regression with n_neighbors = 1\n",
    "mglearn.plots.plot_knn_regression(n_neighbors = 1)"
   ]
  },
  {
   "cell_type": "code",
   "execution_count": null,
   "id": "dda5128b",
   "metadata": {},
   "outputs": [],
   "source": [
    "# plot k-neighbors regression with n_neighbors = 5\n",
    "mglearn.plots.plot_knn_regression(n_neighbors = 5)"
   ]
  },
  {
   "cell_type": "code",
   "execution_count": null,
   "id": "e4567b83",
   "metadata": {},
   "outputs": [],
   "source": []
  },
  {
   "cell_type": "code",
   "execution_count": null,
   "id": "7d693b01",
   "metadata": {},
   "outputs": [],
   "source": []
  },
  {
   "cell_type": "code",
   "execution_count": null,
   "id": "6c2977df",
   "metadata": {},
   "outputs": [],
   "source": []
  },
  {
   "cell_type": "code",
   "execution_count": null,
   "id": "6f59dde1",
   "metadata": {},
   "outputs": [],
   "source": []
  }
 ],
 "metadata": {
  "kernelspec": {
   "display_name": "Python 3 (ipykernel)",
   "language": "python",
   "name": "python3"
  },
  "language_info": {
   "codemirror_mode": {
    "name": "ipython",
    "version": 3
   },
   "file_extension": ".py",
   "mimetype": "text/x-python",
   "name": "python",
   "nbconvert_exporter": "python",
   "pygments_lexer": "ipython3",
   "version": "3.9.13"
  }
 },
 "nbformat": 4,
 "nbformat_minor": 5
}
