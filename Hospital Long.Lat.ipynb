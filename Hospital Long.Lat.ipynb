{
 "cells": [
  {
   "cell_type": "code",
   "execution_count": 1,
   "id": "68632bdd",
   "metadata": {},
   "outputs": [],
   "source": [
    "#pip install geopy"
   ]
  },
  {
   "cell_type": "code",
   "execution_count": 2,
   "id": "5a46254c",
   "metadata": {},
   "outputs": [
    {
     "name": "stdout",
     "output_type": "stream",
     "text": [
      "Elmhurst Hospital Center: {'latitude': 40.74476995, 'longitude': -73.88564685011681}\n",
      "Flushing Hospital Medical Center: {'latitude': 40.75544455, 'longitude': -73.81675869639679}\n",
      "Jamaica Hospital Medical Center: {'latitude': 40.69375095, 'longitude': -73.7813147810893}\n",
      "Long Island Jewish Medical Center: {'latitude': 40.75549825, 'longitude': -73.7065790958942}\n",
      "Queens Hospital Center: {'latitude': 40.7178658, 'longitude': -73.80606565938834}\n",
      "St Johns Episcopal Hospital So Shore: {'error': 'Coordinates not found'}\n",
      "NewYork-Presbyterian/Queens: {'latitude': 40.747263450000005, 'longitude': -73.82519382503959}\n",
      "Long Island Jewish Forest Hills: {'latitude': 40.72903425, 'longitude': -73.85155203538207}\n",
      "Mount Sinai Hospital - Mount Sinai Hospital of Queens: {'latitude': 40.76810675, 'longitude': -73.92493879376337}\n",
      "Long Island Jewish Schneiders Children's Hospital Division: {'error': 'Coordinates not found'}\n",
      "New York - Presbyterian/Queens: {'latitude': 40.7549376, 'longitude': -73.8931009}\n",
      "Cohen Children's Medical Center: {'latitude': 40.7538889, 'longitude': -73.7083333}\n"
     ]
    }
   ],
   "source": [
    "\n",
    "\n",
    "from geopy.geocoders import Nominatim\n",
    "\n",
    "locations = [\n",
    "    'Elmhurst Hospital Center', 'Flushing Hospital Medical Center',\n",
    "    'Jamaica Hospital Medical Center', 'Long Island Jewish Medical Center',\n",
    "    'Queens Hospital Center', 'St Johns Episcopal Hospital So Shore',\n",
    "    'NewYork-Presbyterian/Queens', 'Long Island Jewish Forest Hills',\n",
    "    'Mount Sinai Hospital - Mount Sinai Hospital of Queens',\n",
    "    \"Long Island Jewish Schneiders Children's Hospital Division\",\n",
    "    'New York - Presbyterian/Queens', \"Cohen Children's Medical Center\"\n",
    "]\n",
    "\n",
    "coordinates = {}\n",
    "\n",
    "geolocator = Nominatim(user_agent=\"my_geocoder\")\n",
    "\n",
    "for location in locations:\n",
    "    try:\n",
    "        location_info = geolocator.geocode(location)\n",
    "        if location_info:\n",
    "            coordinates[location] = {'latitude': location_info.latitude, 'longitude': location_info.longitude}\n",
    "        else:\n",
    "            coordinates[location] = {'error': 'Coordinates not found'}\n",
    "    except Exception as e:\n",
    "        coordinates[location] = {'error': str(e)}\n",
    "\n",
    "# Display the coordinates\n",
    "for location, coords in coordinates.items():\n",
    "    print(f\"{location}: {coords}\")"
   ]
  },
  {
   "cell_type": "code",
   "execution_count": null,
   "id": "af8108d9",
   "metadata": {},
   "outputs": [],
   "source": []
  }
 ],
 "metadata": {
  "kernelspec": {
   "display_name": "Python 3 (ipykernel)",
   "language": "python",
   "name": "python3"
  },
  "language_info": {
   "codemirror_mode": {
    "name": "ipython",
    "version": 3
   },
   "file_extension": ".py",
   "mimetype": "text/x-python",
   "name": "python",
   "nbconvert_exporter": "python",
   "pygments_lexer": "ipython3",
   "version": "3.11.3"
  }
 },
 "nbformat": 4,
 "nbformat_minor": 5
}
