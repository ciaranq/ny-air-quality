{
 "cells": [
  {
   "cell_type": "code",
   "execution_count": 1,
   "id": "e28ff2ea",
   "metadata": {},
   "outputs": [],
   "source": [
    "# import the pandas the library\n",
    "import pandas as pd\n",
    "# import the warnings file so we can supress unnecessary warnings when running code\n",
    "import warnings\n",
    "warnings.filterwarnings('ignore')   # The object 'warnings' is used to call the method 'filterwarnings' and ignore the warnings\n",
    "# import the library to make a barchart eyc\n",
    "import matplotlib.pyplot as plt\n",
    "\n"
   ]
  },
  {
   "cell_type": "code",
   "execution_count": 2,
   "id": "437dba93",
   "metadata": {},
   "outputs": [],
   "source": [
    "# import the file on Irish grads\n",
    "df_ny_air = pd.read_csv('./dataset/Automated_Traffic_Volume_Counts.csv')\n",
    "\n",
    "# define some functions i can use to clean data\n",
    "# function to Rename columns in a given DataFrame, df (target pandas DataFrame), \n",
    "# current_names (list): a list of current column names to be renamed\n",
    "# new_names (list): a list of new column names to replace current names  \n",
    "def rename_columns(df, current_names, new_names):\n",
    "    if len(current_names) != len(new_names):\n",
    "        raise ValueError(\"current_names and new_names should have the same length\")\n",
    "    \n",
    "    mapping = dict(zip(current_names, new_names))\n",
    "    df = df.rename(columns=mapping)\n",
    "    return df\n",
    "\n",
    "# function to Rename row data in a given columns in a given DataFrame, df (target pandas DataFrame), \n",
    "# col_name colum you want to target,  changes (list) an array of the changes\n",
    "def rename_row_data(df, col_name, changes):\n",
    "    for old_val, new_val in changes.items():\n",
    "        df.loc[df[col_name] == old_val, col_name] = new_val\n",
    "\n"
   ]
  },
  {
   "cell_type": "code",
   "execution_count": 3,
   "id": "4dcab910",
   "metadata": {},
   "outputs": [
    {
     "data": {
      "text/plain": [
       "27414481"
      ]
     },
     "execution_count": 3,
     "metadata": {},
     "output_type": "execute_result"
    }
   ],
   "source": [
    "# get the number of rows\n",
    "len(df_ny_air)"
   ]
  },
  {
   "cell_type": "code",
   "execution_count": 4,
   "id": "42e620ad",
   "metadata": {},
   "outputs": [
    {
     "data": {
      "text/html": [
       "<div>\n",
       "<style scoped>\n",
       "    .dataframe tbody tr th:only-of-type {\n",
       "        vertical-align: middle;\n",
       "    }\n",
       "\n",
       "    .dataframe tbody tr th {\n",
       "        vertical-align: top;\n",
       "    }\n",
       "\n",
       "    .dataframe thead th {\n",
       "        text-align: right;\n",
       "    }\n",
       "</style>\n",
       "<table border=\"1\" class=\"dataframe\">\n",
       "  <thead>\n",
       "    <tr style=\"text-align: right;\">\n",
       "      <th></th>\n",
       "      <th>RequestID</th>\n",
       "      <th>Boro</th>\n",
       "      <th>Yr</th>\n",
       "      <th>M</th>\n",
       "      <th>D</th>\n",
       "      <th>HH</th>\n",
       "      <th>MM</th>\n",
       "      <th>Vol</th>\n",
       "      <th>SegmentID</th>\n",
       "      <th>WktGeom</th>\n",
       "      <th>street</th>\n",
       "      <th>fromSt</th>\n",
       "      <th>toSt</th>\n",
       "      <th>Direction</th>\n",
       "    </tr>\n",
       "  </thead>\n",
       "  <tbody>\n",
       "    <tr>\n",
       "      <th>0</th>\n",
       "      <td>1100</td>\n",
       "      <td>Staten Island</td>\n",
       "      <td>2011</td>\n",
       "      <td>10</td>\n",
       "      <td>14</td>\n",
       "      <td>10</td>\n",
       "      <td>45</td>\n",
       "      <td>102</td>\n",
       "      <td>103882</td>\n",
       "      <td>POINT (963246 173171.4)</td>\n",
       "      <td>BAY ST</td>\n",
       "      <td>RICHMOND TERR</td>\n",
       "      <td>STUYVESANT PL</td>\n",
       "      <td>SB</td>\n",
       "    </tr>\n",
       "    <tr>\n",
       "      <th>1</th>\n",
       "      <td>1100</td>\n",
       "      <td>Staten Island</td>\n",
       "      <td>2011</td>\n",
       "      <td>10</td>\n",
       "      <td>14</td>\n",
       "      <td>11</td>\n",
       "      <td>0</td>\n",
       "      <td>110</td>\n",
       "      <td>103882</td>\n",
       "      <td>POINT (963246 173171.4)</td>\n",
       "      <td>BAY ST</td>\n",
       "      <td>RICHMOND TERR</td>\n",
       "      <td>STUYVESANT PL</td>\n",
       "      <td>SB</td>\n",
       "    </tr>\n",
       "    <tr>\n",
       "      <th>2</th>\n",
       "      <td>1100</td>\n",
       "      <td>Staten Island</td>\n",
       "      <td>2011</td>\n",
       "      <td>10</td>\n",
       "      <td>14</td>\n",
       "      <td>11</td>\n",
       "      <td>15</td>\n",
       "      <td>101</td>\n",
       "      <td>103882</td>\n",
       "      <td>POINT (963246 173171.4)</td>\n",
       "      <td>BAY ST</td>\n",
       "      <td>RICHMOND TERR</td>\n",
       "      <td>STUYVESANT PL</td>\n",
       "      <td>SB</td>\n",
       "    </tr>\n",
       "    <tr>\n",
       "      <th>3</th>\n",
       "      <td>1100</td>\n",
       "      <td>Staten Island</td>\n",
       "      <td>2011</td>\n",
       "      <td>10</td>\n",
       "      <td>14</td>\n",
       "      <td>11</td>\n",
       "      <td>30</td>\n",
       "      <td>112</td>\n",
       "      <td>103882</td>\n",
       "      <td>POINT (963246 173171.4)</td>\n",
       "      <td>BAY ST</td>\n",
       "      <td>RICHMOND TERR</td>\n",
       "      <td>STUYVESANT PL</td>\n",
       "      <td>SB</td>\n",
       "    </tr>\n",
       "    <tr>\n",
       "      <th>4</th>\n",
       "      <td>1100</td>\n",
       "      <td>Staten Island</td>\n",
       "      <td>2011</td>\n",
       "      <td>10</td>\n",
       "      <td>14</td>\n",
       "      <td>11</td>\n",
       "      <td>45</td>\n",
       "      <td>94</td>\n",
       "      <td>103882</td>\n",
       "      <td>POINT (963246 173171.4)</td>\n",
       "      <td>BAY ST</td>\n",
       "      <td>RICHMOND TERR</td>\n",
       "      <td>STUYVESANT PL</td>\n",
       "      <td>SB</td>\n",
       "    </tr>\n",
       "  </tbody>\n",
       "</table>\n",
       "</div>"
      ],
      "text/plain": [
       "   RequestID           Boro    Yr   M   D  HH  MM  Vol  SegmentID  \\\n",
       "0       1100  Staten Island  2011  10  14  10  45  102     103882   \n",
       "1       1100  Staten Island  2011  10  14  11   0  110     103882   \n",
       "2       1100  Staten Island  2011  10  14  11  15  101     103882   \n",
       "3       1100  Staten Island  2011  10  14  11  30  112     103882   \n",
       "4       1100  Staten Island  2011  10  14  11  45   94     103882   \n",
       "\n",
       "                   WktGeom  street         fromSt           toSt Direction  \n",
       "0  POINT (963246 173171.4)  BAY ST  RICHMOND TERR  STUYVESANT PL        SB  \n",
       "1  POINT (963246 173171.4)  BAY ST  RICHMOND TERR  STUYVESANT PL        SB  \n",
       "2  POINT (963246 173171.4)  BAY ST  RICHMOND TERR  STUYVESANT PL        SB  \n",
       "3  POINT (963246 173171.4)  BAY ST  RICHMOND TERR  STUYVESANT PL        SB  \n",
       "4  POINT (963246 173171.4)  BAY ST  RICHMOND TERR  STUYVESANT PL        SB  "
      ]
     },
     "execution_count": 4,
     "metadata": {},
     "output_type": "execute_result"
    }
   ],
   "source": [
    "# Display first 5 records\n",
    "df_ny_air.head()"
   ]
  },
  {
   "cell_type": "code",
   "execution_count": 5,
   "id": "084b2727",
   "metadata": {},
   "outputs": [],
   "source": [
    "# Clean up columns, get rid of any columns that are not of use to us.\n",
    "df_ny_air = df_ny_air.drop(['RequestID','fromSt','toSt','Direction'], axis=1)"
   ]
  },
  {
   "cell_type": "code",
   "execution_count": 6,
   "id": "a2ee3020",
   "metadata": {},
   "outputs": [
    {
     "name": "stdout",
     "output_type": "stream",
     "text": [
      "Index(['Borough', 'Year', 'M', 'D', 'HH', 'MM', 'Vol', 'SegmentID', 'WktGeom',\n",
      "       'street'],\n",
      "      dtype='object')\n"
     ]
    }
   ],
   "source": [
    "# Rename the columns in the Dataframe \n",
    "# df_irishgrads.rename(columns = ({'Sex': 'Gender'}), inplace=True)\n",
    "df_ny_air = rename_columns(df_ny_air, \n",
    "                            ['Boro', 'Yr'], \n",
    "                            ['Borough', 'Year'])\n",
    "# print(df_irishgrads)\n",
    "# PRINT ALL THE COLUMN HEADINGS THAT REMAIN\n",
    "print(df_ny_air.columns)"
   ]
  },
  {
   "cell_type": "code",
   "execution_count": 7,
   "id": "582e7114",
   "metadata": {
    "scrolled": true
   },
   "outputs": [
    {
     "name": "stdout",
     "output_type": "stream",
     "text": [
      "['Staten Island' 'Manhattan' 'Brooklyn' 'Queens' 'Bronx']\n"
     ]
    }
   ],
   "source": [
    "unique_values_boro = df_ny_air['Borough'].unique()\n",
    "print(unique_values_boro)"
   ]
  },
  {
   "cell_type": "code",
   "execution_count": 8,
   "id": "275e8f0a",
   "metadata": {},
   "outputs": [
    {
     "data": {
      "text/html": [
       "<div>\n",
       "<style scoped>\n",
       "    .dataframe tbody tr th:only-of-type {\n",
       "        vertical-align: middle;\n",
       "    }\n",
       "\n",
       "    .dataframe tbody tr th {\n",
       "        vertical-align: top;\n",
       "    }\n",
       "\n",
       "    .dataframe thead th {\n",
       "        text-align: right;\n",
       "    }\n",
       "</style>\n",
       "<table border=\"1\" class=\"dataframe\">\n",
       "  <thead>\n",
       "    <tr style=\"text-align: right;\">\n",
       "      <th></th>\n",
       "      <th>Borough</th>\n",
       "      <th>Year</th>\n",
       "      <th>M</th>\n",
       "      <th>D</th>\n",
       "      <th>HH</th>\n",
       "      <th>MM</th>\n",
       "      <th>Vol</th>\n",
       "      <th>SegmentID</th>\n",
       "      <th>WktGeom</th>\n",
       "      <th>street</th>\n",
       "    </tr>\n",
       "  </thead>\n",
       "  <tbody>\n",
       "    <tr>\n",
       "      <th>0</th>\n",
       "      <td>Staten Island</td>\n",
       "      <td>2011</td>\n",
       "      <td>10</td>\n",
       "      <td>14</td>\n",
       "      <td>10</td>\n",
       "      <td>45</td>\n",
       "      <td>102</td>\n",
       "      <td>103882</td>\n",
       "      <td>POINT (963246 173171.4)</td>\n",
       "      <td>BAY ST</td>\n",
       "    </tr>\n",
       "    <tr>\n",
       "      <th>1</th>\n",
       "      <td>Staten Island</td>\n",
       "      <td>2011</td>\n",
       "      <td>10</td>\n",
       "      <td>14</td>\n",
       "      <td>11</td>\n",
       "      <td>0</td>\n",
       "      <td>110</td>\n",
       "      <td>103882</td>\n",
       "      <td>POINT (963246 173171.4)</td>\n",
       "      <td>BAY ST</td>\n",
       "    </tr>\n",
       "    <tr>\n",
       "      <th>2</th>\n",
       "      <td>Staten Island</td>\n",
       "      <td>2011</td>\n",
       "      <td>10</td>\n",
       "      <td>14</td>\n",
       "      <td>11</td>\n",
       "      <td>15</td>\n",
       "      <td>101</td>\n",
       "      <td>103882</td>\n",
       "      <td>POINT (963246 173171.4)</td>\n",
       "      <td>BAY ST</td>\n",
       "    </tr>\n",
       "    <tr>\n",
       "      <th>3</th>\n",
       "      <td>Staten Island</td>\n",
       "      <td>2011</td>\n",
       "      <td>10</td>\n",
       "      <td>14</td>\n",
       "      <td>11</td>\n",
       "      <td>30</td>\n",
       "      <td>112</td>\n",
       "      <td>103882</td>\n",
       "      <td>POINT (963246 173171.4)</td>\n",
       "      <td>BAY ST</td>\n",
       "    </tr>\n",
       "    <tr>\n",
       "      <th>4</th>\n",
       "      <td>Staten Island</td>\n",
       "      <td>2011</td>\n",
       "      <td>10</td>\n",
       "      <td>14</td>\n",
       "      <td>11</td>\n",
       "      <td>45</td>\n",
       "      <td>94</td>\n",
       "      <td>103882</td>\n",
       "      <td>POINT (963246 173171.4)</td>\n",
       "      <td>BAY ST</td>\n",
       "    </tr>\n",
       "  </tbody>\n",
       "</table>\n",
       "</div>"
      ],
      "text/plain": [
       "         Borough  Year   M   D  HH  MM  Vol  SegmentID  \\\n",
       "0  Staten Island  2011  10  14  10  45  102     103882   \n",
       "1  Staten Island  2011  10  14  11   0  110     103882   \n",
       "2  Staten Island  2011  10  14  11  15  101     103882   \n",
       "3  Staten Island  2011  10  14  11  30  112     103882   \n",
       "4  Staten Island  2011  10  14  11  45   94     103882   \n",
       "\n",
       "                   WktGeom  street  \n",
       "0  POINT (963246 173171.4)  BAY ST  \n",
       "1  POINT (963246 173171.4)  BAY ST  \n",
       "2  POINT (963246 173171.4)  BAY ST  \n",
       "3  POINT (963246 173171.4)  BAY ST  \n",
       "4  POINT (963246 173171.4)  BAY ST  "
      ]
     },
     "execution_count": 8,
     "metadata": {},
     "output_type": "execute_result"
    }
   ],
   "source": [
    "df_ny_air.head()"
   ]
  },
  {
   "cell_type": "code",
   "execution_count": 9,
   "id": "69d68fdc",
   "metadata": {},
   "outputs": [
    {
     "name": "stdout",
     "output_type": "stream",
     "text": [
      "[2011 2010 2009 2000 2008 2012 2007 2006 2013 2016 2014 2015 2017 2018\n",
      " 2019 2020 2021 2022]\n"
     ]
    }
   ],
   "source": [
    "# find all the unique values in the year column\n",
    "unique_values_year = df_ny_air['Year'].unique()\n",
    "print(unique_values_year)"
   ]
  },
  {
   "cell_type": "code",
   "execution_count": 10,
   "id": "8274798f",
   "metadata": {},
   "outputs": [],
   "source": [
    "years_to_keep = [2022, 2021, 2020]\n",
    "df_ny_air_filtered = df_ny_air[df_ny_air['Year'].isin(years_to_keep)]"
   ]
  },
  {
   "cell_type": "code",
   "execution_count": 11,
   "id": "755cda24",
   "metadata": {},
   "outputs": [
    {
     "data": {
      "text/html": [
       "<div>\n",
       "<style scoped>\n",
       "    .dataframe tbody tr th:only-of-type {\n",
       "        vertical-align: middle;\n",
       "    }\n",
       "\n",
       "    .dataframe tbody tr th {\n",
       "        vertical-align: top;\n",
       "    }\n",
       "\n",
       "    .dataframe thead th {\n",
       "        text-align: right;\n",
       "    }\n",
       "</style>\n",
       "<table border=\"1\" class=\"dataframe\">\n",
       "  <thead>\n",
       "    <tr style=\"text-align: right;\">\n",
       "      <th></th>\n",
       "      <th>Borough</th>\n",
       "      <th>Year</th>\n",
       "      <th>M</th>\n",
       "      <th>D</th>\n",
       "      <th>HH</th>\n",
       "      <th>MM</th>\n",
       "      <th>Vol</th>\n",
       "      <th>SegmentID</th>\n",
       "      <th>WktGeom</th>\n",
       "      <th>street</th>\n",
       "    </tr>\n",
       "  </thead>\n",
       "  <tbody>\n",
       "    <tr>\n",
       "      <th>26261415</th>\n",
       "      <td>Staten Island</td>\n",
       "      <td>2020</td>\n",
       "      <td>1</td>\n",
       "      <td>25</td>\n",
       "      <td>0</td>\n",
       "      <td>0</td>\n",
       "      <td>49</td>\n",
       "      <td>7457</td>\n",
       "      <td>POINT (948912.7573158939 149574.99331751716)</td>\n",
       "      <td>ROCKLAND AVENUE</td>\n",
       "    </tr>\n",
       "    <tr>\n",
       "      <th>26261416</th>\n",
       "      <td>Staten Island</td>\n",
       "      <td>2020</td>\n",
       "      <td>1</td>\n",
       "      <td>25</td>\n",
       "      <td>0</td>\n",
       "      <td>15</td>\n",
       "      <td>48</td>\n",
       "      <td>7457</td>\n",
       "      <td>POINT (948912.7573158939 149574.99331751716)</td>\n",
       "      <td>ROCKLAND AVENUE</td>\n",
       "    </tr>\n",
       "    <tr>\n",
       "      <th>26261417</th>\n",
       "      <td>Staten Island</td>\n",
       "      <td>2020</td>\n",
       "      <td>1</td>\n",
       "      <td>25</td>\n",
       "      <td>0</td>\n",
       "      <td>30</td>\n",
       "      <td>52</td>\n",
       "      <td>7457</td>\n",
       "      <td>POINT (948912.7573158939 149574.99331751716)</td>\n",
       "      <td>ROCKLAND AVENUE</td>\n",
       "    </tr>\n",
       "    <tr>\n",
       "      <th>26261418</th>\n",
       "      <td>Staten Island</td>\n",
       "      <td>2020</td>\n",
       "      <td>1</td>\n",
       "      <td>25</td>\n",
       "      <td>0</td>\n",
       "      <td>45</td>\n",
       "      <td>27</td>\n",
       "      <td>7457</td>\n",
       "      <td>POINT (948912.7573158939 149574.99331751716)</td>\n",
       "      <td>ROCKLAND AVENUE</td>\n",
       "    </tr>\n",
       "    <tr>\n",
       "      <th>26261419</th>\n",
       "      <td>Staten Island</td>\n",
       "      <td>2020</td>\n",
       "      <td>1</td>\n",
       "      <td>25</td>\n",
       "      <td>1</td>\n",
       "      <td>0</td>\n",
       "      <td>22</td>\n",
       "      <td>7457</td>\n",
       "      <td>POINT (948912.7573158939 149574.99331751716)</td>\n",
       "      <td>ROCKLAND AVENUE</td>\n",
       "    </tr>\n",
       "  </tbody>\n",
       "</table>\n",
       "</div>"
      ],
      "text/plain": [
       "                Borough  Year  M   D  HH  MM  Vol  SegmentID  \\\n",
       "26261415  Staten Island  2020  1  25   0   0   49       7457   \n",
       "26261416  Staten Island  2020  1  25   0  15   48       7457   \n",
       "26261417  Staten Island  2020  1  25   0  30   52       7457   \n",
       "26261418  Staten Island  2020  1  25   0  45   27       7457   \n",
       "26261419  Staten Island  2020  1  25   1   0   22       7457   \n",
       "\n",
       "                                               WktGeom           street  \n",
       "26261415  POINT (948912.7573158939 149574.99331751716)  ROCKLAND AVENUE  \n",
       "26261416  POINT (948912.7573158939 149574.99331751716)  ROCKLAND AVENUE  \n",
       "26261417  POINT (948912.7573158939 149574.99331751716)  ROCKLAND AVENUE  \n",
       "26261418  POINT (948912.7573158939 149574.99331751716)  ROCKLAND AVENUE  \n",
       "26261419  POINT (948912.7573158939 149574.99331751716)  ROCKLAND AVENUE  "
      ]
     },
     "execution_count": 11,
     "metadata": {},
     "output_type": "execute_result"
    }
   ],
   "source": [
    "df_ny_air_filtered.head()"
   ]
  },
  {
   "cell_type": "code",
   "execution_count": 12,
   "id": "753be8e6",
   "metadata": {},
   "outputs": [],
   "source": [
    "df_ny_air_filtered.to_csv('./dataset/Automated_Traffic_Volume_Counts_2022-2020.csv', index=False)"
   ]
  },
  {
   "cell_type": "code",
   "execution_count": 33,
   "id": "b7b4313e",
   "metadata": {},
   "outputs": [
    {
     "data": {
      "text/plain": [
       "(498048, 10)"
      ]
     },
     "execution_count": 33,
     "metadata": {},
     "output_type": "execute_result"
    }
   ],
   "source": [
    "df_ny_air_filtered.shape"
   ]
  },
  {
   "cell_type": "code",
   "execution_count": null,
   "id": "b673b4ca",
   "metadata": {},
   "outputs": [],
   "source": []
  }
 ],
 "metadata": {
  "kernelspec": {
   "display_name": "Python 3 (ipykernel)",
   "language": "python",
   "name": "python3"
  },
  "language_info": {
   "codemirror_mode": {
    "name": "ipython",
    "version": 3
   },
   "file_extension": ".py",
   "mimetype": "text/x-python",
   "name": "python",
   "nbconvert_exporter": "python",
   "pygments_lexer": "ipython3",
   "version": "3.9.13"
  }
 },
 "nbformat": 4,
 "nbformat_minor": 5
}
