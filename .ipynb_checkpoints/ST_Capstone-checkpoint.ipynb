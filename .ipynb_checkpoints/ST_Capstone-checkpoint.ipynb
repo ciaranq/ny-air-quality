{
 "cells": [
  {
   "cell_type": "code",
   "execution_count": 1,
   "id": "c6af2af6",
   "metadata": {},
   "outputs": [],
   "source": [
    "import warnings\n",
    "warnings.filterwarnings('ignore')\n",
    "\n",
    "import matplotlib.pyplot as plt\n",
    "%matplotlib inline\n",
    "\n",
    "import pandas as pd \n",
    "from sklearn.model_selection import train_test_split\n",
    "from sklearn.preprocessing import StandardScaler"
   ]
  },
  {
   "cell_type": "code",
   "execution_count": 2,
   "id": "0e0a3a93",
   "metadata": {},
   "outputs": [
    {
     "data": {
      "text/html": [
       "<div>\n",
       "<style scoped>\n",
       "    .dataframe tbody tr th:only-of-type {\n",
       "        vertical-align: middle;\n",
       "    }\n",
       "\n",
       "    .dataframe tbody tr th {\n",
       "        vertical-align: top;\n",
       "    }\n",
       "\n",
       "    .dataframe thead th {\n",
       "        text-align: right;\n",
       "    }\n",
       "</style>\n",
       "<table border=\"1\" class=\"dataframe\">\n",
       "  <thead>\n",
       "    <tr style=\"text-align: right;\">\n",
       "      <th></th>\n",
       "      <th>RequestID</th>\n",
       "      <th>Boro</th>\n",
       "      <th>Yr</th>\n",
       "      <th>M</th>\n",
       "      <th>D</th>\n",
       "      <th>HH</th>\n",
       "      <th>MM</th>\n",
       "      <th>Vol</th>\n",
       "      <th>SegmentID</th>\n",
       "      <th>WktGeom</th>\n",
       "      <th>street</th>\n",
       "      <th>fromSt</th>\n",
       "      <th>toSt</th>\n",
       "      <th>Direction</th>\n",
       "    </tr>\n",
       "  </thead>\n",
       "  <tbody>\n",
       "    <tr>\n",
       "      <th>0</th>\n",
       "      <td>1100</td>\n",
       "      <td>Staten Island</td>\n",
       "      <td>2011</td>\n",
       "      <td>10</td>\n",
       "      <td>14</td>\n",
       "      <td>10</td>\n",
       "      <td>45</td>\n",
       "      <td>102</td>\n",
       "      <td>103882</td>\n",
       "      <td>POINT (963246 173171.4)</td>\n",
       "      <td>BAY ST</td>\n",
       "      <td>RICHMOND TERR</td>\n",
       "      <td>STUYVESANT PL</td>\n",
       "      <td>SB</td>\n",
       "    </tr>\n",
       "    <tr>\n",
       "      <th>1</th>\n",
       "      <td>1100</td>\n",
       "      <td>Staten Island</td>\n",
       "      <td>2011</td>\n",
       "      <td>10</td>\n",
       "      <td>14</td>\n",
       "      <td>11</td>\n",
       "      <td>0</td>\n",
       "      <td>110</td>\n",
       "      <td>103882</td>\n",
       "      <td>POINT (963246 173171.4)</td>\n",
       "      <td>BAY ST</td>\n",
       "      <td>RICHMOND TERR</td>\n",
       "      <td>STUYVESANT PL</td>\n",
       "      <td>SB</td>\n",
       "    </tr>\n",
       "    <tr>\n",
       "      <th>2</th>\n",
       "      <td>1100</td>\n",
       "      <td>Staten Island</td>\n",
       "      <td>2011</td>\n",
       "      <td>10</td>\n",
       "      <td>14</td>\n",
       "      <td>11</td>\n",
       "      <td>15</td>\n",
       "      <td>101</td>\n",
       "      <td>103882</td>\n",
       "      <td>POINT (963246 173171.4)</td>\n",
       "      <td>BAY ST</td>\n",
       "      <td>RICHMOND TERR</td>\n",
       "      <td>STUYVESANT PL</td>\n",
       "      <td>SB</td>\n",
       "    </tr>\n",
       "    <tr>\n",
       "      <th>3</th>\n",
       "      <td>1100</td>\n",
       "      <td>Staten Island</td>\n",
       "      <td>2011</td>\n",
       "      <td>10</td>\n",
       "      <td>14</td>\n",
       "      <td>11</td>\n",
       "      <td>30</td>\n",
       "      <td>112</td>\n",
       "      <td>103882</td>\n",
       "      <td>POINT (963246 173171.4)</td>\n",
       "      <td>BAY ST</td>\n",
       "      <td>RICHMOND TERR</td>\n",
       "      <td>STUYVESANT PL</td>\n",
       "      <td>SB</td>\n",
       "    </tr>\n",
       "    <tr>\n",
       "      <th>4</th>\n",
       "      <td>1100</td>\n",
       "      <td>Staten Island</td>\n",
       "      <td>2011</td>\n",
       "      <td>10</td>\n",
       "      <td>14</td>\n",
       "      <td>11</td>\n",
       "      <td>45</td>\n",
       "      <td>94</td>\n",
       "      <td>103882</td>\n",
       "      <td>POINT (963246 173171.4)</td>\n",
       "      <td>BAY ST</td>\n",
       "      <td>RICHMOND TERR</td>\n",
       "      <td>STUYVESANT PL</td>\n",
       "      <td>SB</td>\n",
       "    </tr>\n",
       "  </tbody>\n",
       "</table>\n",
       "</div>"
      ],
      "text/plain": [
       "   RequestID           Boro    Yr   M   D  HH  MM  Vol  SegmentID  \\\n",
       "0       1100  Staten Island  2011  10  14  10  45  102     103882   \n",
       "1       1100  Staten Island  2011  10  14  11   0  110     103882   \n",
       "2       1100  Staten Island  2011  10  14  11  15  101     103882   \n",
       "3       1100  Staten Island  2011  10  14  11  30  112     103882   \n",
       "4       1100  Staten Island  2011  10  14  11  45   94     103882   \n",
       "\n",
       "                   WktGeom  street         fromSt           toSt Direction  \n",
       "0  POINT (963246 173171.4)  BAY ST  RICHMOND TERR  STUYVESANT PL        SB  \n",
       "1  POINT (963246 173171.4)  BAY ST  RICHMOND TERR  STUYVESANT PL        SB  \n",
       "2  POINT (963246 173171.4)  BAY ST  RICHMOND TERR  STUYVESANT PL        SB  \n",
       "3  POINT (963246 173171.4)  BAY ST  RICHMOND TERR  STUYVESANT PL        SB  \n",
       "4  POINT (963246 173171.4)  BAY ST  RICHMOND TERR  STUYVESANT PL        SB  "
      ]
     },
     "execution_count": 2,
     "metadata": {},
     "output_type": "execute_result"
    }
   ],
   "source": [
    "df = pd.read_csv('Automated_Traffic_Volume_Counts.csv')\n",
    "df.head()"
   ]
  },
  {
   "cell_type": "code",
   "execution_count": 11,
   "id": "277b5b1a",
   "metadata": {
    "scrolled": true
   },
   "outputs": [
    {
     "data": {
      "text/html": [
       "<div>\n",
       "<style scoped>\n",
       "    .dataframe tbody tr th:only-of-type {\n",
       "        vertical-align: middle;\n",
       "    }\n",
       "\n",
       "    .dataframe tbody tr th {\n",
       "        vertical-align: top;\n",
       "    }\n",
       "\n",
       "    .dataframe thead th {\n",
       "        text-align: right;\n",
       "    }\n",
       "</style>\n",
       "<table border=\"1\" class=\"dataframe\">\n",
       "  <thead>\n",
       "    <tr style=\"text-align: right;\">\n",
       "      <th></th>\n",
       "      <th>RequestID</th>\n",
       "      <th>Boro</th>\n",
       "      <th>Yr</th>\n",
       "      <th>M</th>\n",
       "      <th>D</th>\n",
       "      <th>HH</th>\n",
       "      <th>MM</th>\n",
       "      <th>Vol</th>\n",
       "      <th>SegmentID</th>\n",
       "      <th>WktGeom</th>\n",
       "      <th>street</th>\n",
       "      <th>fromSt</th>\n",
       "      <th>toSt</th>\n",
       "      <th>Direction</th>\n",
       "    </tr>\n",
       "  </thead>\n",
       "  <tbody>\n",
       "    <tr>\n",
       "      <th>0</th>\n",
       "      <td>1100</td>\n",
       "      <td>Staten Island</td>\n",
       "      <td>2011</td>\n",
       "      <td>10</td>\n",
       "      <td>14</td>\n",
       "      <td>10</td>\n",
       "      <td>45</td>\n",
       "      <td>102</td>\n",
       "      <td>103882</td>\n",
       "      <td>POINT (963246 173171.4)</td>\n",
       "      <td>BAY ST</td>\n",
       "      <td>RICHMOND TERR</td>\n",
       "      <td>STUYVESANT PL</td>\n",
       "      <td>SB</td>\n",
       "    </tr>\n",
       "    <tr>\n",
       "      <th>1</th>\n",
       "      <td>1100</td>\n",
       "      <td>Staten Island</td>\n",
       "      <td>2011</td>\n",
       "      <td>10</td>\n",
       "      <td>14</td>\n",
       "      <td>11</td>\n",
       "      <td>0</td>\n",
       "      <td>110</td>\n",
       "      <td>103882</td>\n",
       "      <td>POINT (963246 173171.4)</td>\n",
       "      <td>BAY ST</td>\n",
       "      <td>RICHMOND TERR</td>\n",
       "      <td>STUYVESANT PL</td>\n",
       "      <td>SB</td>\n",
       "    </tr>\n",
       "    <tr>\n",
       "      <th>2</th>\n",
       "      <td>1100</td>\n",
       "      <td>Staten Island</td>\n",
       "      <td>2011</td>\n",
       "      <td>10</td>\n",
       "      <td>14</td>\n",
       "      <td>11</td>\n",
       "      <td>15</td>\n",
       "      <td>101</td>\n",
       "      <td>103882</td>\n",
       "      <td>POINT (963246 173171.4)</td>\n",
       "      <td>BAY ST</td>\n",
       "      <td>RICHMOND TERR</td>\n",
       "      <td>STUYVESANT PL</td>\n",
       "      <td>SB</td>\n",
       "    </tr>\n",
       "    <tr>\n",
       "      <th>3</th>\n",
       "      <td>1100</td>\n",
       "      <td>Staten Island</td>\n",
       "      <td>2011</td>\n",
       "      <td>10</td>\n",
       "      <td>14</td>\n",
       "      <td>11</td>\n",
       "      <td>30</td>\n",
       "      <td>112</td>\n",
       "      <td>103882</td>\n",
       "      <td>POINT (963246 173171.4)</td>\n",
       "      <td>BAY ST</td>\n",
       "      <td>RICHMOND TERR</td>\n",
       "      <td>STUYVESANT PL</td>\n",
       "      <td>SB</td>\n",
       "    </tr>\n",
       "    <tr>\n",
       "      <th>4</th>\n",
       "      <td>1100</td>\n",
       "      <td>Staten Island</td>\n",
       "      <td>2011</td>\n",
       "      <td>10</td>\n",
       "      <td>14</td>\n",
       "      <td>11</td>\n",
       "      <td>45</td>\n",
       "      <td>94</td>\n",
       "      <td>103882</td>\n",
       "      <td>POINT (963246 173171.4)</td>\n",
       "      <td>BAY ST</td>\n",
       "      <td>RICHMOND TERR</td>\n",
       "      <td>STUYVESANT PL</td>\n",
       "      <td>SB</td>\n",
       "    </tr>\n",
       "  </tbody>\n",
       "</table>\n",
       "</div>"
      ],
      "text/plain": [
       "   RequestID           Boro    Yr   M   D  HH  MM  Vol  SegmentID  \\\n",
       "0       1100  Staten Island  2011  10  14  10  45  102     103882   \n",
       "1       1100  Staten Island  2011  10  14  11   0  110     103882   \n",
       "2       1100  Staten Island  2011  10  14  11  15  101     103882   \n",
       "3       1100  Staten Island  2011  10  14  11  30  112     103882   \n",
       "4       1100  Staten Island  2011  10  14  11  45   94     103882   \n",
       "\n",
       "                   WktGeom  street         fromSt           toSt Direction  \n",
       "0  POINT (963246 173171.4)  BAY ST  RICHMOND TERR  STUYVESANT PL        SB  \n",
       "1  POINT (963246 173171.4)  BAY ST  RICHMOND TERR  STUYVESANT PL        SB  \n",
       "2  POINT (963246 173171.4)  BAY ST  RICHMOND TERR  STUYVESANT PL        SB  \n",
       "3  POINT (963246 173171.4)  BAY ST  RICHMOND TERR  STUYVESANT PL        SB  \n",
       "4  POINT (963246 173171.4)  BAY ST  RICHMOND TERR  STUYVESANT PL        SB  "
      ]
     },
     "execution_count": 11,
     "metadata": {},
     "output_type": "execute_result"
    }
   ],
   "source": [
    "#reducing size of data set,setting bound of data from years greater than or equal to 2017\n",
    "df_1=df[df['Yr']>=2009]\n",
    "df_1.head()"
   ]
  },
  {
   "cell_type": "code",
   "execution_count": 12,
   "id": "f07c2e01",
   "metadata": {
    "scrolled": false
   },
   "outputs": [],
   "source": [
    "df_2=df_1[df_1['Boro']== 'Queens']"
   ]
  },
  {
   "cell_type": "code",
   "execution_count": 13,
   "id": "72d07948",
   "metadata": {},
   "outputs": [
    {
     "data": {
      "text/html": [
       "<div>\n",
       "<style scoped>\n",
       "    .dataframe tbody tr th:only-of-type {\n",
       "        vertical-align: middle;\n",
       "    }\n",
       "\n",
       "    .dataframe tbody tr th {\n",
       "        vertical-align: top;\n",
       "    }\n",
       "\n",
       "    .dataframe thead th {\n",
       "        text-align: right;\n",
       "    }\n",
       "</style>\n",
       "<table border=\"1\" class=\"dataframe\">\n",
       "  <thead>\n",
       "    <tr style=\"text-align: right;\">\n",
       "      <th></th>\n",
       "      <th>RequestID</th>\n",
       "      <th>Boro</th>\n",
       "      <th>Yr</th>\n",
       "      <th>M</th>\n",
       "      <th>D</th>\n",
       "      <th>HH</th>\n",
       "      <th>MM</th>\n",
       "      <th>Vol</th>\n",
       "      <th>SegmentID</th>\n",
       "      <th>WktGeom</th>\n",
       "      <th>street</th>\n",
       "      <th>fromSt</th>\n",
       "      <th>toSt</th>\n",
       "      <th>Direction</th>\n",
       "    </tr>\n",
       "  </thead>\n",
       "  <tbody>\n",
       "    <tr>\n",
       "      <th>131482</th>\n",
       "      <td>1218</td>\n",
       "      <td>Queens</td>\n",
       "      <td>2011</td>\n",
       "      <td>9</td>\n",
       "      <td>12</td>\n",
       "      <td>9</td>\n",
       "      <td>0</td>\n",
       "      <td>53</td>\n",
       "      <td>66878</td>\n",
       "      <td>POINT (1008485.9 202975.9)</td>\n",
       "      <td>58 ST</td>\n",
       "      <td>MAURICE AV / MASPETH AV</td>\n",
       "      <td>56 DR</td>\n",
       "      <td>NB</td>\n",
       "    </tr>\n",
       "    <tr>\n",
       "      <th>131483</th>\n",
       "      <td>1218</td>\n",
       "      <td>Queens</td>\n",
       "      <td>2011</td>\n",
       "      <td>9</td>\n",
       "      <td>12</td>\n",
       "      <td>9</td>\n",
       "      <td>15</td>\n",
       "      <td>47</td>\n",
       "      <td>66878</td>\n",
       "      <td>POINT (1008485.9 202975.9)</td>\n",
       "      <td>58 ST</td>\n",
       "      <td>MAURICE AV / MASPETH AV</td>\n",
       "      <td>56 DR</td>\n",
       "      <td>NB</td>\n",
       "    </tr>\n",
       "    <tr>\n",
       "      <th>131484</th>\n",
       "      <td>1218</td>\n",
       "      <td>Queens</td>\n",
       "      <td>2011</td>\n",
       "      <td>9</td>\n",
       "      <td>12</td>\n",
       "      <td>9</td>\n",
       "      <td>30</td>\n",
       "      <td>51</td>\n",
       "      <td>66878</td>\n",
       "      <td>POINT (1008485.9 202975.9)</td>\n",
       "      <td>58 ST</td>\n",
       "      <td>MAURICE AV / MASPETH AV</td>\n",
       "      <td>56 DR</td>\n",
       "      <td>NB</td>\n",
       "    </tr>\n",
       "    <tr>\n",
       "      <th>131485</th>\n",
       "      <td>1218</td>\n",
       "      <td>Queens</td>\n",
       "      <td>2011</td>\n",
       "      <td>9</td>\n",
       "      <td>12</td>\n",
       "      <td>9</td>\n",
       "      <td>45</td>\n",
       "      <td>69</td>\n",
       "      <td>66878</td>\n",
       "      <td>POINT (1008485.9 202975.9)</td>\n",
       "      <td>58 ST</td>\n",
       "      <td>MAURICE AV / MASPETH AV</td>\n",
       "      <td>56 DR</td>\n",
       "      <td>NB</td>\n",
       "    </tr>\n",
       "    <tr>\n",
       "      <th>131486</th>\n",
       "      <td>1218</td>\n",
       "      <td>Queens</td>\n",
       "      <td>2011</td>\n",
       "      <td>9</td>\n",
       "      <td>12</td>\n",
       "      <td>10</td>\n",
       "      <td>0</td>\n",
       "      <td>55</td>\n",
       "      <td>66878</td>\n",
       "      <td>POINT (1008485.9 202975.9)</td>\n",
       "      <td>58 ST</td>\n",
       "      <td>MAURICE AV / MASPETH AV</td>\n",
       "      <td>56 DR</td>\n",
       "      <td>NB</td>\n",
       "    </tr>\n",
       "  </tbody>\n",
       "</table>\n",
       "</div>"
      ],
      "text/plain": [
       "        RequestID    Boro    Yr  M   D  HH  MM  Vol  SegmentID  \\\n",
       "131482       1218  Queens  2011  9  12   9   0   53      66878   \n",
       "131483       1218  Queens  2011  9  12   9  15   47      66878   \n",
       "131484       1218  Queens  2011  9  12   9  30   51      66878   \n",
       "131485       1218  Queens  2011  9  12   9  45   69      66878   \n",
       "131486       1218  Queens  2011  9  12  10   0   55      66878   \n",
       "\n",
       "                           WktGeom street                   fromSt   toSt  \\\n",
       "131482  POINT (1008485.9 202975.9)  58 ST  MAURICE AV / MASPETH AV  56 DR   \n",
       "131483  POINT (1008485.9 202975.9)  58 ST  MAURICE AV / MASPETH AV  56 DR   \n",
       "131484  POINT (1008485.9 202975.9)  58 ST  MAURICE AV / MASPETH AV  56 DR   \n",
       "131485  POINT (1008485.9 202975.9)  58 ST  MAURICE AV / MASPETH AV  56 DR   \n",
       "131486  POINT (1008485.9 202975.9)  58 ST  MAURICE AV / MASPETH AV  56 DR   \n",
       "\n",
       "       Direction  \n",
       "131482        NB  \n",
       "131483        NB  \n",
       "131484        NB  \n",
       "131485        NB  \n",
       "131486        NB  "
      ]
     },
     "execution_count": 13,
     "metadata": {},
     "output_type": "execute_result"
    }
   ],
   "source": [
    "df_2.head()"
   ]
  },
  {
   "cell_type": "code",
   "execution_count": 14,
   "id": "cb36c2b6",
   "metadata": {
    "scrolled": true
   },
   "outputs": [
    {
     "name": "stdout",
     "output_type": "stream",
     "text": [
      "<class 'pandas.core.frame.DataFrame'>\n",
      "Int64Index: 7059223 entries, 131482 to 27414480\n",
      "Data columns (total 14 columns):\n",
      " #   Column     Dtype \n",
      "---  ------     ----- \n",
      " 0   RequestID  int64 \n",
      " 1   Boro       object\n",
      " 2   Yr         int64 \n",
      " 3   M          int64 \n",
      " 4   D          int64 \n",
      " 5   HH         int64 \n",
      " 6   MM         int64 \n",
      " 7   Vol        int64 \n",
      " 8   SegmentID  int64 \n",
      " 9   WktGeom    object\n",
      " 10  street     object\n",
      " 11  fromSt     object\n",
      " 12  toSt       object\n",
      " 13  Direction  object\n",
      "dtypes: int64(8), object(6)\n",
      "memory usage: 807.9+ MB\n"
     ]
    }
   ],
   "source": [
    "df_2.info()"
   ]
  },
  {
   "cell_type": "code",
   "execution_count": 30,
   "id": "973864f7",
   "metadata": {
    "scrolled": true
   },
   "outputs": [
    {
     "data": {
      "text/plain": [
       "(37349, 1)"
      ]
     },
     "execution_count": 30,
     "metadata": {},
     "output_type": "execute_result"
    }
   ],
   "source": [
    "#aggregating data by year, month, day and Borough\n",
    "df_gr = df_2.groupby(['Yr','M','D','street']).agg({'Vol': 'sum'})\n",
    "\n",
    "df_gr.shape"
   ]
  },
  {
   "cell_type": "code",
   "execution_count": 35,
   "id": "3fc2793d",
   "metadata": {},
   "outputs": [
    {
     "name": "stdout",
     "output_type": "stream",
     "text": [
      "131482         58 ST\n",
      "131483         58 ST\n",
      "131484         58 ST\n",
      "131485         58 ST\n",
      "131486         58 ST\n",
      "              ...   \n",
      "27414476    73 PLACE\n",
      "27414477    73 PLACE\n",
      "27414478    73 PLACE\n",
      "27414479    73 PLACE\n",
      "27414480    73 PLACE\n",
      "Name: street, Length: 7059223, dtype: object\n"
     ]
    }
   ],
   "source": [
    "col = df_2['street']\n",
    "print(col)"
   ]
  },
  {
   "cell_type": "code",
   "execution_count": 38,
   "id": "e7d8b6f2",
   "metadata": {
    "scrolled": true
   },
   "outputs": [
    {
     "data": {
      "text/plain": [
       "RequestID    2010\n",
       "Boro            1\n",
       "Yr             13\n",
       "M              12\n",
       "D              31\n",
       "HH             24\n",
       "MM              4\n",
       "Vol          1858\n",
       "SegmentID    4158\n",
       "WktGeom      5538\n",
       "street       1874\n",
       "fromSt       1934\n",
       "toSt         1746\n",
       "Direction       4\n",
       "dtype: int64"
      ]
     },
     "execution_count": 38,
     "metadata": {},
     "output_type": "execute_result"
    }
   ],
   "source": [
    "df_2.nunique()"
   ]
  },
  {
   "cell_type": "code",
   "execution_count": 21,
   "id": "d09ed64f",
   "metadata": {
    "scrolled": false
   },
   "outputs": [
    {
     "data": {
      "text/html": [
       "<div>\n",
       "<style scoped>\n",
       "    .dataframe tbody tr th:only-of-type {\n",
       "        vertical-align: middle;\n",
       "    }\n",
       "\n",
       "    .dataframe tbody tr th {\n",
       "        vertical-align: top;\n",
       "    }\n",
       "\n",
       "    .dataframe thead th {\n",
       "        text-align: right;\n",
       "    }\n",
       "</style>\n",
       "<table border=\"1\" class=\"dataframe\">\n",
       "  <thead>\n",
       "    <tr style=\"text-align: right;\">\n",
       "      <th></th>\n",
       "      <th></th>\n",
       "      <th></th>\n",
       "      <th></th>\n",
       "      <th>Vol</th>\n",
       "    </tr>\n",
       "    <tr>\n",
       "      <th>Yr</th>\n",
       "      <th>M</th>\n",
       "      <th>D</th>\n",
       "      <th>street</th>\n",
       "      <th></th>\n",
       "    </tr>\n",
       "  </thead>\n",
       "  <tbody>\n",
       "    <tr>\n",
       "      <th rowspan=\"5\" valign=\"top\">2009</th>\n",
       "      <th rowspan=\"5\" valign=\"top\">1</th>\n",
       "      <th>12</th>\n",
       "      <th>W/B N CONDUIT AVE @ BROOKVILLE BLVD</th>\n",
       "      <td>885</td>\n",
       "    </tr>\n",
       "    <tr>\n",
       "      <th rowspan=\"4\" valign=\"top\">13</th>\n",
       "      <th>N/B MAIN ST @ 78 ROAD</th>\n",
       "      <td>7812</td>\n",
       "    </tr>\n",
       "    <tr>\n",
       "      <th>S/B MAIN ST @ 78 ROAD</th>\n",
       "      <td>8013</td>\n",
       "    </tr>\n",
       "    <tr>\n",
       "      <th>S/B MAIN ST @ 78 ROAD (S LEG)</th>\n",
       "      <td>5390</td>\n",
       "    </tr>\n",
       "    <tr>\n",
       "      <th>W/B N CONDUIT AVE @ BROOKVILLE BLVD</th>\n",
       "      <td>840</td>\n",
       "    </tr>\n",
       "  </tbody>\n",
       "</table>\n",
       "</div>"
      ],
      "text/plain": [
       "                                                Vol\n",
       "Yr   M D  street                                   \n",
       "2009 1 12 W/B N CONDUIT AVE @ BROOKVILLE BLVD   885\n",
       "       13 N/B MAIN ST @ 78 ROAD                7812\n",
       "          S/B MAIN ST @ 78 ROAD                8013\n",
       "          S/B MAIN ST @ 78 ROAD (S LEG)        5390\n",
       "          W/B N CONDUIT AVE @ BROOKVILLE BLVD   840"
      ]
     },
     "execution_count": 21,
     "metadata": {},
     "output_type": "execute_result"
    }
   ],
   "source": [
    "df_gr.head()"
   ]
  },
  {
   "cell_type": "code",
   "execution_count": 25,
   "id": "5cdfa95a",
   "metadata": {
    "scrolled": true
   },
   "outputs": [
    {
     "data": {
      "image/png": "[encoded data removed]",
      "text/plain": [
       "<Figure size 432x288 with 1 Axes>"
      ]
     },
     "metadata": {
      "needs_background": "light"
     },
     "output_type": "display_data"
    }
   ],
   "source": [
    "df_grouped = df_gr.groupby(['Yr', 'M', 'street'])['Vol'].sum().reset_index()\n",
    "\n",
    "plt.bar(df_grouped['street'], df_grouped['Vol'])\n",
    "plt.title('Volume by Year')\n",
    "plt.ylabel('Volume')\n",
    "plt.xlabel('street')\n",
    "plt.show()"
   ]
  },
  {
   "cell_type": "code",
   "execution_count": 18,
   "id": "7b7c9c83",
   "metadata": {},
   "outputs": [
    {
     "data": {
      "image/png": "[encoded data removed]",
      "text/plain": [
       "<Figure size 432x288 with 1 Axes>"
      ]
     },
     "metadata": {
      "needs_background": "light"
     },
     "output_type": "display_data"
    }
   ],
   "source": [
    "df_manhattan = df_grouped[df_grouped['Boro'] == 'Manhattan']\n",
    "\n",
    "# Create a bar chart of the filtered data\n",
    "plt.bar('M', 'Vol', data=df_manhattan)\n",
    "plt.title('Manhattan')\n",
    "plt.xlabel('Month')\n",
    "plt.ylabel('Volume')\n",
    "plt.show()"
   ]
  },
  {
   "cell_type": "code",
   "execution_count": 21,
   "id": "1146ceca",
   "metadata": {},
   "outputs": [
    {
     "data": {
      "image/png": "[encoded data removed]",
      "text/plain": [
       "<Figure size 432x288 with 1 Axes>"
      ]
     },
     "metadata": {
      "needs_background": "light"
     },
     "output_type": "display_data"
    }
   ],
   "source": [
    "df_brooklyn = df_grouped[df_grouped['Boro'] == 'Bronx']\n",
    "\n",
    "# Create a bar chart of the filtered data\n",
    "plt.bar('Yr', 'Vol', data=df_brooklyn)\n",
    "plt.title('Queens')\n",
    "plt.xlabel('Year')\n",
    "plt.ylabel('Volume')\n",
    "plt.show()"
   ]
  },
  {
   "cell_type": "code",
   "execution_count": 10,
   "id": "c00ce146",
   "metadata": {},
   "outputs": [
    {
     "data": {
      "image/png": "[encoded data removed]",
      "text/plain": [
       "<Figure size 432x288 with 1 Axes>"
      ]
     },
     "metadata": {
      "needs_background": "light"
     },
     "output_type": "display_data"
    }
   ],
   "source": [
    "df_bronx = df_grouped[df_grouped['Boro'] == 'Bronx']\n",
    "\n",
    "# Create a bar chart of the filtered data\n",
    "plt.bar('M', 'Vol', data=df_bronx)\n",
    "plt.title('Bronx')\n",
    "plt.xlabel('Month')\n",
    "plt.ylabel('Volume')\n",
    "plt.show()"
   ]
  },
  {
   "cell_type": "code",
   "execution_count": 11,
   "id": "d5771a7a",
   "metadata": {},
   "outputs": [
    {
     "data": {
      "image/png": "[encoded data removed]",
      "text/plain": [
       "<Figure size 432x288 with 1 Axes>"
      ]
     },
     "metadata": {
      "needs_background": "light"
     },
     "output_type": "display_data"
    }
   ],
   "source": [
    "df_queens = df_grouped[df_grouped['Boro'] == 'Queens']\n",
    "\n",
    "# Create a bar chart of the filtered data\n",
    "plt.bar('M', 'Vol', data=df_manhattan)\n",
    "plt.title('Queens')\n",
    "plt.xlabel('Month')\n",
    "plt.ylabel('Volume')\n",
    "plt.show()"
   ]
  },
  {
   "cell_type": "code",
   "execution_count": 12,
   "id": "c2a894df",
   "metadata": {},
   "outputs": [
    {
     "data": {
      "image/png": "[encoded data removed]",
      "text/plain": [
       "<Figure size 432x288 with 1 Axes>"
      ]
     },
     "metadata": {
      "needs_background": "light"
     },
     "output_type": "display_data"
    }
   ],
   "source": [
    "df_stisl = df_grouped[df_grouped['Boro'] == 'Staten Island']\n",
    "\n",
    "# Create a bar chart of the filtered data\n",
    "plt.bar('M', 'Vol', data=df_stisl)\n",
    "plt.title('Staten Island')\n",
    "plt.xlabel('Month')\n",
    "plt.ylabel('Volume')\n",
    "plt.show()"
   ]
  },
  {
   "cell_type": "code",
   "execution_count": null,
   "id": "a683efb3",
   "metadata": {},
   "outputs": [],
   "source": []
  },
  {
   "cell_type": "code",
   "execution_count": null,
   "id": "dfcfbbd0",
   "metadata": {},
   "outputs": [],
   "source": []
  },
  {
   "cell_type": "code",
   "execution_count": null,
   "id": "fcb85506",
   "metadata": {},
   "outputs": [],
   "source": []
  }
 ],
 "metadata": {
  "kernelspec": {
   "display_name": "Python 3 (ipykernel)",
   "language": "python",
   "name": "python3"
  },
  "language_info": {
   "codemirror_mode": {
    "name": "ipython",
    "version": 3
   },
   "file_extension": ".py",
   "mimetype": "text/x-python",
   "name": "python",
   "nbconvert_exporter": "python",
   "pygments_lexer": "ipython3",
   "version": "3.9.13"
  }
 },
 "nbformat": 4,
 "nbformat_minor": 5
}
