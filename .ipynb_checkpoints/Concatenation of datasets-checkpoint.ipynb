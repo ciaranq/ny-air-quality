{
 "cells": [
  {
   "cell_type": "code",
   "execution_count": 33,
   "id": "286c4607",
   "metadata": {},
   "outputs": [],
   "source": [
    "import pandas as pd\n",
    "import warnings\n",
    "warnings.filterwarnings('ignore')"
   ]
  },
  {
   "cell_type": "markdown",
   "id": "765412b2",
   "metadata": {},
   "source": [
    "Downloaded inpatient discharge data for years 2016 - 2019 from https://health.data.ny.gov/ site, all data is de-identified for privacy and GDPR purposes. Preprocessing was completed on each csv file in seperate notebooks, duriong the preprocessing it was noted that there was some differences in the naming of columns across the years"
   ]
  },
  {
   "cell_type": "markdown",
   "id": "20cf11f5",
   "metadata": {},
   "source": [
    "We will call in the data sets and compare the column nomenaclature"
   ]
  },
  {
   "cell_type": "code",
   "execution_count": 34,
   "id": "eb01ee10",
   "metadata": {},
   "outputs": [],
   "source": [
    "df1 = pd.read_csv('2016_Discharge_updated')\n",
    "df2 = pd.read_csv('2017_Discharge_updated')  \n",
    "df3 = pd.read_csv('2018_Discharge_updated')\n",
    "df4 = pd.read_csv('2019_Discharge_updated')\n",
    "df5 = pd.read_csv('2020_Discharge_updated')\n",
    "df6 = pd.read_csv('2021_Discharge_updated')\n",
    "    "
   ]
  },
  {
   "cell_type": "code",
   "execution_count": 35,
   "id": "289b2b54",
   "metadata": {
    "collapsed": true
   },
   "outputs": [
    {
     "data": {
      "text/plain": [
       "Index(['Hospital Service Area', 'Hospital County', 'Facility Name',\n",
       "       'Age Group', 'Zip Code - 3 digits', 'Gender', 'Length of Stay',\n",
       "       'Type of Admission', 'Discharge Year', 'CCSR Diagnosis Description',\n",
       "       'APR DRG Description', 'APR MDC Description',\n",
       "       'APR Severity of Illness Code', 'APR Severity of Illness Description',\n",
       "       'APR Risk of Mortality'],\n",
       "      dtype='object')"
      ]
     },
     "execution_count": 35,
     "metadata": {},
     "output_type": "execute_result"
    }
   ],
   "source": [
    "df1.columns"
   ]
  },
  {
   "cell_type": "code",
   "execution_count": 36,
   "id": "5a6a81aa",
   "metadata": {
    "collapsed": true
   },
   "outputs": [
    {
     "data": {
      "text/plain": [
       "Index(['Hospital Service Area', 'Hospital County', 'Facility Name',\n",
       "       'Age Group', 'Zip Code - 3 digits', 'Gender', 'Length of Stay',\n",
       "       'Type of Admission', 'Discharge Year', 'CCSR Diagnosis Description',\n",
       "       'APR DRG Description', 'APR MDC Description',\n",
       "       'APR Severity of Illness Code', 'APR Severity of Illness Description',\n",
       "       'APR Risk of Mortality'],\n",
       "      dtype='object')"
      ]
     },
     "execution_count": 36,
     "metadata": {},
     "output_type": "execute_result"
    }
   ],
   "source": [
    "df2.columns"
   ]
  },
  {
   "cell_type": "code",
   "execution_count": 37,
   "id": "711eb8d1",
   "metadata": {
    "collapsed": true
   },
   "outputs": [
    {
     "data": {
      "text/plain": [
       "Index(['Hospital Service Area', 'Hospital County', 'Facility Name',\n",
       "       'Age Group', 'Zip Code - 3 digits', 'Gender', 'Length of Stay',\n",
       "       'Type of Admission', 'Discharge Year', 'CCSR Diagnosis Description',\n",
       "       'APR DRG Description', 'APR MDC Description',\n",
       "       'APR Severity of Illness Code', 'APR Severity of Illness Description',\n",
       "       'APR Risk of Mortality'],\n",
       "      dtype='object')"
      ]
     },
     "execution_count": 37,
     "metadata": {},
     "output_type": "execute_result"
    }
   ],
   "source": [
    "df3.columns"
   ]
  },
  {
   "cell_type": "code",
   "execution_count": 38,
   "id": "cada808e",
   "metadata": {
    "collapsed": true
   },
   "outputs": [
    {
     "data": {
      "text/plain": [
       "Index(['Hospital Service Area', 'Hospital County', 'Facility Name',\n",
       "       'Age Group', 'Zip Code - 3 digits', 'Gender', 'Length of Stay',\n",
       "       'Type of Admission', 'Discharge Year', 'CCSR Diagnosis Description',\n",
       "       'APR DRG Description', 'APR MDC Description',\n",
       "       'APR Severity of Illness Code', 'APR Severity of Illness Description',\n",
       "       'APR Risk of Mortality'],\n",
       "      dtype='object')"
      ]
     },
     "execution_count": 38,
     "metadata": {},
     "output_type": "execute_result"
    }
   ],
   "source": [
    "df4.columns"
   ]
  },
  {
   "cell_type": "code",
   "execution_count": 39,
   "id": "de354d23",
   "metadata": {
    "collapsed": true
   },
   "outputs": [
    {
     "data": {
      "text/plain": [
       "Index(['Hospital Service Area', 'Hospital County', 'Facility Name',\n",
       "       'Age Group', 'Zip Code - 3 digits', 'Gender', 'Length of Stay',\n",
       "       'Type of Admission', 'Discharge Year', 'CCSR Diagnosis Description',\n",
       "       'APR DRG Description', 'APR MDC Description',\n",
       "       'APR Severity of Illness Code', 'APR Severity of Illness Description',\n",
       "       'APR Risk of Mortality'],\n",
       "      dtype='object')"
      ]
     },
     "execution_count": 39,
     "metadata": {},
     "output_type": "execute_result"
    }
   ],
   "source": [
    "df5.columns"
   ]
  },
  {
   "cell_type": "code",
   "execution_count": 40,
   "id": "6b552c1d",
   "metadata": {
    "collapsed": true
   },
   "outputs": [
    {
     "data": {
      "text/plain": [
       "Index(['Hospital Service Area', 'Hospital County', 'Facility Name',\n",
       "       'Age Group', 'Zip Code - 3 digits', 'Gender', 'Length of Stay',\n",
       "       'Type of Admission', 'Discharge Year', 'CCSR Diagnosis Description',\n",
       "       'APR DRG Description', 'APR MDC Description',\n",
       "       'APR Severity of Illness Code', 'APR Severity of Illness Description',\n",
       "       'APR Risk of Mortality'],\n",
       "      dtype='object')"
      ]
     },
     "execution_count": 40,
     "metadata": {},
     "output_type": "execute_result"
    }
   ],
   "source": [
    "df6.columns"
   ]
  },
  {
   "cell_type": "markdown",
   "id": "8b3944d1",
   "metadata": {},
   "source": [
    "We can see that there is a difference in the some column nomenaclature across the data frames"
   ]
  },
  {
   "cell_type": "code",
   "execution_count": 41,
   "id": "b2b16780",
   "metadata": {},
   "outputs": [],
   "source": [
    "#df1 has 'Health Service Area' as opposed to 'Hospital Service Area' in the other dataframes\n",
    "#df1 and df2 have 'CCS Diagnosis Description' instread of 'CCSR Diagnosis Description'\n",
    "# we will standardise these\n",
    "df1 = df1.rename(columns = {'Health Service Area': 'Hospital Service Area', 'CCS Diagnosis Description' : 'CCSR Diagnosis Description'})\n",
    "df2 = df2.rename(columns={'CCS Diagnosis Description': 'CCSR Diagnosis Description'})"
   ]
  },
  {
   "cell_type": "code",
   "execution_count": 51,
   "id": "1fab88d2",
   "metadata": {},
   "outputs": [],
   "source": [
    "#saving the dataframes back to the csv files for concatenation\n",
    "\n",
    "df1.to_csv('2016_Discharge_updated', index = False)\n",
    "df2.to_csv('2017_Discharge_updated', index = False)\n",
    "df3.to_csv('2018_Discharge_updated', index = False)\n",
    "df4.to_csv('2019_Discharge_updated', index = False)\n",
    "df5.to_csv('2020_Discharge_updated', index = False)\n",
    "df6.to_csv('2021_Discharge_updated', index = False)"
   ]
  },
  {
   "cell_type": "code",
   "execution_count": 43,
   "id": "871cdde8",
   "metadata": {},
   "outputs": [],
   "source": [
    "#Creating a list of csv files for importing as dataframes, plan is to concatenate the files into one large dataframe\n",
    "\n",
    "csv_lists = ['2016_Discharge_updated', '2017_Discharge_updated',\n",
    "           '2018_Discharge_updated', '2019_Discharge_updated', '2020_Discharge_updated', '2021_Discharge_updated']"
   ]
  },
  {
   "cell_type": "code",
   "execution_count": 44,
   "id": "be45dc14",
   "metadata": {},
   "outputs": [],
   "source": [
    "#creating an empty list to store the dataframes\n",
    "dataframes = []"
   ]
  },
  {
   "cell_type": "code",
   "execution_count": 45,
   "id": "08857592",
   "metadata": {},
   "outputs": [],
   "source": [
    "#looping through csv list, we will read each file into a dataframe and append to the 'dataframes' list\n",
    "\n",
    "for csv_lists in csv_lists:\n",
    "    df = pd.read_csv(csv_lists)\n",
    "    dataframes.append(df)"
   ]
  },
  {
   "cell_type": "code",
   "execution_count": 46,
   "id": "ec10f78f",
   "metadata": {},
   "outputs": [
    {
     "data": {
      "text/plain": [
       "(35399, 15)"
      ]
     },
     "execution_count": 46,
     "metadata": {},
     "output_type": "execute_result"
    }
   ],
   "source": [
    "df.shape"
   ]
  },
  {
   "cell_type": "code",
   "execution_count": 47,
   "id": "6ec3987b",
   "metadata": {},
   "outputs": [
    {
     "data": {
      "text/plain": [
       "Index(['Hospital Service Area', 'Hospital County', 'Facility Name',\n",
       "       'Age Group', 'Zip Code - 3 digits', 'Gender', 'Length of Stay',\n",
       "       'Type of Admission', 'Discharge Year', 'CCSR Diagnosis Description',\n",
       "       'APR DRG Description', 'APR MDC Description',\n",
       "       'APR Severity of Illness Code', 'APR Severity of Illness Description',\n",
       "       'APR Risk of Mortality'],\n",
       "      dtype='object')"
      ]
     },
     "execution_count": 47,
     "metadata": {},
     "output_type": "execute_result"
    }
   ],
   "source": [
    "df.columns"
   ]
  },
  {
   "cell_type": "code",
   "execution_count": 53,
   "id": "1b5166c9",
   "metadata": {},
   "outputs": [],
   "source": [
    "#concatenating all the dataframes in the dataframes list. We will use the concat function in pandas.\n",
    "#setting 'axis = 0' to concatenate on rows.\n",
    "#we will reset the index\n",
    "#Saving the new concatenated file as a csv\n",
    "\n",
    "master_df = pd.concat(dataframes, axis = 0)\n",
    "\n",
    "#master_df = master_df.reset_index(drop = True)\n",
    "master_df.to_csv('master_discharge _list', index = False)\n"
   ]
  },
  {
   "cell_type": "code",
   "execution_count": 49,
   "id": "1e599008",
   "metadata": {},
   "outputs": [
    {
     "data": {
      "text/plain": [
       "(320960, 15)"
      ]
     },
     "execution_count": 49,
     "metadata": {},
     "output_type": "execute_result"
    }
   ],
   "source": [
    "master_df.shape"
   ]
  },
  {
   "cell_type": "code",
   "execution_count": 50,
   "id": "9fdec903",
   "metadata": {},
   "outputs": [
    {
     "data": {
      "text/plain": [
       "Index(['Hospital Service Area', 'Hospital County', 'Facility Name',\n",
       "       'Age Group', 'Zip Code - 3 digits', 'Gender', 'Length of Stay',\n",
       "       'Type of Admission', 'Discharge Year', 'CCSR Diagnosis Description',\n",
       "       'APR DRG Description', 'APR MDC Description',\n",
       "       'APR Severity of Illness Code', 'APR Severity of Illness Description',\n",
       "       'APR Risk of Mortality'],\n",
       "      dtype='object')"
      ]
     },
     "execution_count": 50,
     "metadata": {},
     "output_type": "execute_result"
    }
   ],
   "source": [
    "master_df.columns"
   ]
  },
  {
   "cell_type": "code",
   "execution_count": 52,
   "id": "3a4b0885",
   "metadata": {
    "scrolled": false
   },
   "outputs": [
    {
     "data": {
      "text/html": [
       "<div>\n",
       "<style scoped>\n",
       "    .dataframe tbody tr th:only-of-type {\n",
       "        vertical-align: middle;\n",
       "    }\n",
       "\n",
       "    .dataframe tbody tr th {\n",
       "        vertical-align: top;\n",
       "    }\n",
       "\n",
       "    .dataframe thead th {\n",
       "        text-align: right;\n",
       "    }\n",
       "</style>\n",
       "<table border=\"1\" class=\"dataframe\">\n",
       "  <thead>\n",
       "    <tr style=\"text-align: right;\">\n",
       "      <th></th>\n",
       "      <th>Hospital Service Area</th>\n",
       "      <th>Hospital County</th>\n",
       "      <th>Facility Name</th>\n",
       "      <th>Age Group</th>\n",
       "      <th>Zip Code - 3 digits</th>\n",
       "      <th>Gender</th>\n",
       "      <th>Length of Stay</th>\n",
       "      <th>Type of Admission</th>\n",
       "      <th>Discharge Year</th>\n",
       "      <th>CCSR Diagnosis Description</th>\n",
       "      <th>APR DRG Description</th>\n",
       "      <th>APR MDC Description</th>\n",
       "      <th>APR Severity of Illness Code</th>\n",
       "      <th>APR Severity of Illness Description</th>\n",
       "      <th>APR Risk of Mortality</th>\n",
       "    </tr>\n",
       "  </thead>\n",
       "  <tbody>\n",
       "    <tr>\n",
       "      <th>0</th>\n",
       "      <td>Western NY</td>\n",
       "      <td>Allegany</td>\n",
       "      <td>Cuba Memorial Hospital Inc</td>\n",
       "      <td>30 to 49</td>\n",
       "      <td>147</td>\n",
       "      <td>M</td>\n",
       "      <td>2</td>\n",
       "      <td>Elective</td>\n",
       "      <td>2016</td>\n",
       "      <td>Pneumonia (except that caused by tuberculosis ...</td>\n",
       "      <td>Other pneumonia</td>\n",
       "      <td>Diseases and Disorders of the Respiratory System</td>\n",
       "      <td>1.0</td>\n",
       "      <td>Minor</td>\n",
       "      <td>Minor</td>\n",
       "    </tr>\n",
       "    <tr>\n",
       "      <th>1</th>\n",
       "      <td>Western NY</td>\n",
       "      <td>Allegany</td>\n",
       "      <td>Cuba Memorial Hospital Inc</td>\n",
       "      <td>50 to 69</td>\n",
       "      <td>147</td>\n",
       "      <td>F</td>\n",
       "      <td>7</td>\n",
       "      <td>Urgent</td>\n",
       "      <td>2016</td>\n",
       "      <td>Chronic obstructive pulmonary disease and bron...</td>\n",
       "      <td>Chronic obstructive pulmonary disease</td>\n",
       "      <td>Diseases and Disorders of the Respiratory System</td>\n",
       "      <td>1.0</td>\n",
       "      <td>Minor</td>\n",
       "      <td>Minor</td>\n",
       "    </tr>\n",
       "    <tr>\n",
       "      <th>2</th>\n",
       "      <td>Western NY</td>\n",
       "      <td>Allegany</td>\n",
       "      <td>Cuba Memorial Hospital Inc</td>\n",
       "      <td>50 to 69</td>\n",
       "      <td>147</td>\n",
       "      <td>M</td>\n",
       "      <td>2</td>\n",
       "      <td>Urgent</td>\n",
       "      <td>2016</td>\n",
       "      <td>Pneumonia (except that caused by tuberculosis ...</td>\n",
       "      <td>Other pneumonia</td>\n",
       "      <td>Diseases and Disorders of the Respiratory System</td>\n",
       "      <td>1.0</td>\n",
       "      <td>Minor</td>\n",
       "      <td>Minor</td>\n",
       "    </tr>\n",
       "    <tr>\n",
       "      <th>3</th>\n",
       "      <td>Western NY</td>\n",
       "      <td>Allegany</td>\n",
       "      <td>Cuba Memorial Hospital Inc</td>\n",
       "      <td>70 or Older</td>\n",
       "      <td>147</td>\n",
       "      <td>F</td>\n",
       "      <td>3</td>\n",
       "      <td>Urgent</td>\n",
       "      <td>2016</td>\n",
       "      <td>Pneumonia (except that caused by tuberculosis ...</td>\n",
       "      <td>Other pneumonia</td>\n",
       "      <td>Diseases and Disorders of the Respiratory System</td>\n",
       "      <td>2.0</td>\n",
       "      <td>Moderate</td>\n",
       "      <td>Minor</td>\n",
       "    </tr>\n",
       "    <tr>\n",
       "      <th>4</th>\n",
       "      <td>Western NY</td>\n",
       "      <td>Allegany</td>\n",
       "      <td>Cuba Memorial Hospital Inc</td>\n",
       "      <td>50 to 69</td>\n",
       "      <td>147</td>\n",
       "      <td>M</td>\n",
       "      <td>3</td>\n",
       "      <td>Elective</td>\n",
       "      <td>2016</td>\n",
       "      <td>Pneumonia (except that caused by tuberculosis ...</td>\n",
       "      <td>Other pneumonia</td>\n",
       "      <td>Diseases and Disorders of the Respiratory System</td>\n",
       "      <td>1.0</td>\n",
       "      <td>Minor</td>\n",
       "      <td>Minor</td>\n",
       "    </tr>\n",
       "  </tbody>\n",
       "</table>\n",
       "</div>"
      ],
      "text/plain": [
       "  Hospital Service Area Hospital County               Facility Name  \\\n",
       "0            Western NY        Allegany  Cuba Memorial Hospital Inc   \n",
       "1            Western NY        Allegany  Cuba Memorial Hospital Inc   \n",
       "2            Western NY        Allegany  Cuba Memorial Hospital Inc   \n",
       "3            Western NY        Allegany  Cuba Memorial Hospital Inc   \n",
       "4            Western NY        Allegany  Cuba Memorial Hospital Inc   \n",
       "\n",
       "     Age Group Zip Code - 3 digits Gender Length of Stay Type of Admission  \\\n",
       "0     30 to 49                 147      M              2          Elective   \n",
       "1     50 to 69                 147      F              7            Urgent   \n",
       "2     50 to 69                 147      M              2            Urgent   \n",
       "3  70 or Older                 147      F              3            Urgent   \n",
       "4     50 to 69                 147      M              3          Elective   \n",
       "\n",
       "   Discharge Year                         CCSR Diagnosis Description  \\\n",
       "0            2016  Pneumonia (except that caused by tuberculosis ...   \n",
       "1            2016  Chronic obstructive pulmonary disease and bron...   \n",
       "2            2016  Pneumonia (except that caused by tuberculosis ...   \n",
       "3            2016  Pneumonia (except that caused by tuberculosis ...   \n",
       "4            2016  Pneumonia (except that caused by tuberculosis ...   \n",
       "\n",
       "                     APR DRG Description  \\\n",
       "0                        Other pneumonia   \n",
       "1  Chronic obstructive pulmonary disease   \n",
       "2                        Other pneumonia   \n",
       "3                        Other pneumonia   \n",
       "4                        Other pneumonia   \n",
       "\n",
       "                                APR MDC Description  \\\n",
       "0  Diseases and Disorders of the Respiratory System   \n",
       "1  Diseases and Disorders of the Respiratory System   \n",
       "2  Diseases and Disorders of the Respiratory System   \n",
       "3  Diseases and Disorders of the Respiratory System   \n",
       "4  Diseases and Disorders of the Respiratory System   \n",
       "\n",
       "   APR Severity of Illness Code APR Severity of Illness Description  \\\n",
       "0                           1.0                               Minor   \n",
       "1                           1.0                               Minor   \n",
       "2                           1.0                               Minor   \n",
       "3                           2.0                            Moderate   \n",
       "4                           1.0                               Minor   \n",
       "\n",
       "  APR Risk of Mortality  \n",
       "0                 Minor  \n",
       "1                 Minor  \n",
       "2                 Minor  \n",
       "3                 Minor  \n",
       "4                 Minor  "
      ]
     },
     "execution_count": 52,
     "metadata": {},
     "output_type": "execute_result"
    }
   ],
   "source": [
    "master_df.head()"
   ]
  },
  {
   "cell_type": "code",
   "execution_count": null,
   "id": "3edae23d",
   "metadata": {},
   "outputs": [],
   "source": []
  }
 ],
 "metadata": {
  "kernelspec": {
   "display_name": "Python 3 (ipykernel)",
   "language": "python",
   "name": "python3"
  },
  "language_info": {
   "codemirror_mode": {
    "name": "ipython",
    "version": 3
   },
   "file_extension": ".py",
   "mimetype": "text/x-python",
   "name": "python",
   "nbconvert_exporter": "python",
   "pygments_lexer": "ipython3",
   "version": "3.11.3"
  }
 },
 "nbformat": 4,
 "nbformat_minor": 5
}
